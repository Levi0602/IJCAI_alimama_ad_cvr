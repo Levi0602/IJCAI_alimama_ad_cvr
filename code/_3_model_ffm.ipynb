{
 "cells": [
  {
   "cell_type": "code",
   "execution_count": 1,
   "metadata": {},
   "outputs": [],
   "source": [
    "import pandas as pd\n",
    "import numpy as np\n",
    "import subprocess\n",
    "from common import data2libffm  #需将data hash成ffm输入文件格式 1:2:3\n",
    "import gc"
   ]
  },
  {
   "cell_type": "code",
   "execution_count": 7,
   "metadata": {},
   "outputs": [],
   "source": [
    "train = pd.read_pickle(\"../data/merge_data/final_train.pickle\")"
   ]
  },
  {
   "cell_type": "code",
   "execution_count": 8,
   "metadata": {},
   "outputs": [],
   "source": [
    "train.rename(columns={\"is_trade_x\":\"label\"},inplace=True) "
   ]
  },
  {
   "cell_type": "code",
   "execution_count": 19,
   "metadata": {},
   "outputs": [
    {
     "data": {
      "text/plain": [
       "{'7_click_cnt',\n",
       " '8_click_cnt',\n",
       " 'adClick',\n",
       " 'context_id',\n",
       " 'context_page_id',\n",
       " 'context_timestamp',\n",
       " 'dayClick_currence',\n",
       " 'dayClick_max',\n",
       " 'dayClick_mean',\n",
       " 'dayClick_median',\n",
       " 'dayClick_min',\n",
       " 'dist_max',\n",
       " 'dist_mean',\n",
       " 'dist_median',\n",
       " 'dist_min',\n",
       " 'dist_std',\n",
       " 'first_2_last_dist',\n",
       " 'hour',\n",
       " 'instance_id',\n",
       " 'item_brand_id',\n",
       " 'item_brand_id_sum_count',\n",
       " 'item_category_list',\n",
       " 'item_category_list_sum_count',\n",
       " 'item_city_id',\n",
       " 'item_city_id_sum_count',\n",
       " 'item_collected_level',\n",
       " 'item_id',\n",
       " 'item_id_sum_count',\n",
       " 'item_price_level',\n",
       " 'item_property_list',\n",
       " 'item_property_list_sum_count',\n",
       " 'item_pv_level',\n",
       " 'item_sales_level',\n",
       " 'label',\n",
       " 'last_click_1_2_dist',\n",
       " 'last_click_1_3_dist',\n",
       " 'last_click_2_3_dist',\n",
       " 'now_2_first_dist',\n",
       " 'now_2_last_dist',\n",
       " 'predict_category_property',\n",
       " 'shop_id',\n",
       " 'shop_id_sum_count',\n",
       " 'shop_review_num_level',\n",
       " 'shop_review_positive_rate',\n",
       " 'shop_score_delivery',\n",
       " 'shop_score_description',\n",
       " 'shop_score_service',\n",
       " 'shop_star_level',\n",
       " 'user_age_level',\n",
       " 'user_gender_id',\n",
       " 'user_gender_id_sum_count',\n",
       " 'user_id',\n",
       " 'user_id_sum_count',\n",
       " 'user_occupation_id',\n",
       " 'user_occupation_id_sum_count',\n",
       " 'user_star_level'}"
      ]
     },
     "execution_count": 19,
     "metadata": {},
     "output_type": "execute_result"
    }
   ],
   "source": [
    "set(train.columns)"
   ]
  },
  {
   "cell_type": "code",
   "execution_count": 1,
   "metadata": {},
   "outputs": [],
   "source": [
    "del train"
   ]
  },
  {
   "cell_type": "code",
   "execution_count": 20,
   "metadata": {},
   "outputs": [],
   "source": [
    "drop = ['context_page_id',\n",
    " 'context_timestamp',\n",
    " 'hour',\n",
    " 'item_brand_id',\n",
    " 'item_category_list',\n",
    " 'item_city_id',\n",
    " 'item_id',\n",
    " 'item_property_list',\n",
    " 'shop_id',\n",
    " 'user_id','dayClick_median',]\n",
    "train = train.drop(drop,axis=1)"
   ]
  },
  {
   "cell_type": "code",
   "execution_count": 21,
   "metadata": {},
   "outputs": [
    {
     "data": {
      "text/plain": [
       "(3011618, 45)"
      ]
     },
     "execution_count": 21,
     "metadata": {},
     "output_type": "execute_result"
    }
   ],
   "source": [
    "train.shape"
   ]
  },
  {
   "cell_type": "code",
   "execution_count": 9,
   "metadata": {},
   "outputs": [],
   "source": [
    "test = pd.read_pickle(\"../data/merge_data/final_test.pickle\")"
   ]
  },
  {
   "cell_type": "code",
   "execution_count": 11,
   "metadata": {},
   "outputs": [],
   "source": [
    "test_index = test.set_index(\"instance_id\")"
   ]
  },
  {
   "cell_type": "code",
   "execution_count": 12,
   "metadata": {},
   "outputs": [
    {
     "data": {
      "text/plain": [
       "(1209768, 46)"
      ]
     },
     "execution_count": 12,
     "metadata": {},
     "output_type": "execute_result"
    }
   ],
   "source": [
    "test.shape"
   ]
  },
  {
   "cell_type": "code",
   "execution_count": 13,
   "metadata": {},
   "outputs": [],
   "source": [
    "test[\"label\"] = -1"
   ]
  },
  {
   "cell_type": "code",
   "execution_count": 14,
   "metadata": {},
   "outputs": [],
   "source": [
    "test = test.drop([\"day\"],axis=1)"
   ]
  },
  {
   "cell_type": "code",
   "execution_count": 23,
   "metadata": {},
   "outputs": [],
   "source": [
    "test = test.drop([\"dayClick_median\"],axis=1)"
   ]
  },
  {
   "cell_type": "code",
   "execution_count": 24,
   "metadata": {},
   "outputs": [
    {
     "data": {
      "text/plain": [
       "(1209768, 45)"
      ]
     },
     "execution_count": 24,
     "metadata": {},
     "output_type": "execute_result"
    }
   ],
   "source": [
    "test.shape"
   ]
  },
  {
   "cell_type": "code",
   "execution_count": 13,
   "metadata": {},
   "outputs": [],
   "source": [
    "test = test.drop(drop_ts,axis=1)"
   ]
  },
  {
   "cell_type": "code",
   "execution_count": 26,
   "metadata": {},
   "outputs": [
    {
     "name": "stderr",
     "output_type": "stream",
     "text": [
      "0it [00:00, ?it/s]    60    0m\n",
      "999566it [03:20, 4996.59it/s]   260    1m\n",
      "1209768it [04:01, 5005.44it/s]\n"
     ]
    },
    {
     "name": "stdout",
     "output_type": "stream",
     "text": [
      "finish convert data to libffm\n"
     ]
    },
    {
     "data": {
      "text/plain": [
       "23"
      ]
     },
     "execution_count": 26,
     "metadata": {},
     "output_type": "execute_result"
    }
   ],
   "source": [
    "data2libffm(test,'online_test.ffm') #对data hash化\n",
    "del test\n",
    "gc.collect()"
   ]
  },
  {
   "cell_type": "code",
   "execution_count": 25,
   "metadata": {},
   "outputs": [
    {
     "name": "stderr",
     "output_type": "stream",
     "text": [
      "0it [00:00, ?it/s]  2827    0m\n",
      "999967it [13:54, 1198.40it/s]  3661    1m\n",
      "1999969it [31:17, 1065.38it/s]  4704    2m\n",
      "2999889it [52:30, 952.15it/s]   5978    3m\n",
      "3011618it [52:44, 951.76it/s]\n"
     ]
    },
    {
     "name": "stdout",
     "output_type": "stream",
     "text": [
      "finish convert data to libffm\n"
     ]
    },
    {
     "data": {
      "text/plain": [
       "3138"
      ]
     },
     "execution_count": 25,
     "metadata": {},
     "output_type": "execute_result"
    }
   ],
   "source": [
    "data2libffm(train,\"online_train.ffm\")\n",
    "del train\n",
    "gc.collect()"
   ]
  },
  {
   "cell_type": "code",
   "execution_count": 57,
   "metadata": {},
   "outputs": [
    {
     "data": {
      "text/plain": [
       "0"
      ]
     },
     "execution_count": 57,
     "metadata": {},
     "output_type": "execute_result"
    }
   ],
   "source": [
    "train_path = '../data/Field-aware/online_train.ffm'\n",
    "val_path = \"../data/Field-aware/online_val.ffm\"\n",
    "test_path = '../data/Field-aware/online_test.ffm'\n",
    "model_path = '../data/model/ffm.model'\n",
    "result_path = '../data/model/online_pred.csv'\n",
    "\n",
    "#./ffm-train -r 0.05 -t 23 -s 20 -l 0.0000005 train_path model_path\n",
    "#./ffm-predict test_path model_path online_pred.csv\n",
    "subprocess.call('ffm-train -r 0.05 -t 12 -s 20 -l 0.0000005 {0} {1}'.format(train_path,model_path)) #epoch\n",
    "subprocess.call('ffm-predict {0} {1} {2}'.format(test_path,model_path,result_path))"
   ]
  },
  {
   "cell_type": "code",
   "execution_count": 2,
   "metadata": {},
   "outputs": [],
   "source": [
    "ans = pd.read_csv('../data/model/ffm_pred.csv',names=['prob'])\n",
    "ans[\"prob\"].mean()"
   ]
  },
  {
   "cell_type": "code",
   "execution_count": null,
   "metadata": {},
   "outputs": [],
   "source": [
    "#18:0.047 16:0.050 15:0.040 14:0.03498 13:0.03684 12:0.03677"
   ]
  },
  {
   "cell_type": "code",
   "execution_count": 59,
   "metadata": {},
   "outputs": [],
   "source": [
    "res = pd.DataFrame(test_index.index)\n",
    "res[\"predicted_score\"] = ans[\"prob\"]"
   ]
  },
  {
   "cell_type": "code",
   "execution_count": 60,
   "metadata": {},
   "outputs": [],
   "source": [
    "res.to_csv(\"../data/result/ffm_preds.txt\",sep=\" \",index=False,line_terminator=\"\\r\")"
   ]
  },
  {
   "cell_type": "code",
   "execution_count": 3,
   "metadata": {},
   "outputs": [],
   "source": [
    "res.head(10)"
   ]
  },
  {
   "cell_type": "code",
   "execution_count": null,
   "metadata": {},
   "outputs": [],
   "source": []
  }
 ],
 "metadata": {
  "kernelspec": {
   "display_name": "Python 3",
   "language": "python",
   "name": "python3"
  },
  "language_info": {
   "codemirror_mode": {
    "name": "ipython",
    "version": 3
   },
   "file_extension": ".py",
   "mimetype": "text/x-python",
   "name": "python",
   "nbconvert_exporter": "python",
   "pygments_lexer": "ipython3",
   "version": "3.6.4"
  }
 },
 "nbformat": 4,
 "nbformat_minor": 2
}
