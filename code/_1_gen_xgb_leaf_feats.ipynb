{
 "cells": [
  {
   "cell_type": "code",
   "execution_count": 1,
   "metadata": {},
   "outputs": [],
   "source": [
    "import pandas as pd\n",
    "import numpy as np\n",
    "import gc\n",
    "import xgboost as xgb\n",
    "from xgboost.sklearn import XGBClassifier\n",
    "from sklearn.model_selection import train_test_split"
   ]
  },
  {
   "cell_type": "code",
   "execution_count": 2,
   "metadata": {},
   "outputs": [],
   "source": [
    "train = pd.read_pickle(\"../data/merge_data/final_train.pickle\")"
   ]
  },
  {
   "cell_type": "code",
   "execution_count": 3,
   "metadata": {},
   "outputs": [],
   "source": [
    "test = pd.read_pickle(\"../data/merge_data/final_test.pickle\")"
   ]
  },
  {
   "cell_type": "code",
   "execution_count": 4,
   "metadata": {},
   "outputs": [],
   "source": [
    "ts = pd.read_pickle(\"../data/raw_data/base_preprocess_test.pickle\")"
   ]
  },
  {
   "cell_type": "code",
   "execution_count": 5,
   "metadata": {},
   "outputs": [],
   "source": [
    "test = pd.merge(test,ts[[\"instance_id\",\"context_page_id\",\"item_brand_id\",\"item_city_id\",\"item_id\",\"shop_id\",\"user_id\"]],\"left\",on=[\"instance_id\"])"
   ]
  },
  {
   "cell_type": "code",
   "execution_count": 6,
   "metadata": {},
   "outputs": [],
   "source": [
    "train.rename(columns={\"is_trade_x\":\"label\"},inplace=True)"
   ]
  },
  {
   "cell_type": "code",
   "execution_count": 7,
   "metadata": {},
   "outputs": [],
   "source": [
    "train = train.drop([\"context_timestamp\",\"hour\",\"item_category_list\",\"item_property_list\",\"predict_category_property\"],axis=1)"
   ]
  },
  {
   "cell_type": "code",
   "execution_count": 8,
   "metadata": {},
   "outputs": [],
   "source": [
    "train = train.drop([\"item_id\",\"user_id\",\"context_id\",\"context_page_id\",\"user_gender_id\",\"shop_id\"],axis=1)"
   ]
  },
  {
   "cell_type": "code",
   "execution_count": 9,
   "metadata": {},
   "outputs": [],
   "source": [
    "test = test.drop([\"item_id\",\"user_id\",\"context_id\",\"context_page_id\",\"user_gender_id\",\"shop_id\",\"predict_category_property\"],axis=1)"
   ]
  },
  {
   "cell_type": "code",
   "execution_count": 12,
   "metadata": {},
   "outputs": [],
   "source": [
    "test = test.drop([\"day\"],axis=1)"
   ]
  },
  {
   "cell_type": "code",
   "execution_count": 13,
   "metadata": {},
   "outputs": [
    {
     "data": {
      "text/plain": [
       "set()"
      ]
     },
     "execution_count": 13,
     "metadata": {},
     "output_type": "execute_result"
    }
   ],
   "source": [
    "set(test.columns) - set(train.columns)"
   ]
  },
  {
   "cell_type": "code",
   "execution_count": 14,
   "metadata": {},
   "outputs": [
    {
     "data": {
      "text/plain": [
       "100"
      ]
     },
     "execution_count": 14,
     "metadata": {},
     "output_type": "execute_result"
    }
   ],
   "source": [
    "del ts\n",
    "gc.collect()"
   ]
  },
  {
   "cell_type": "code",
   "execution_count": 15,
   "metadata": {},
   "outputs": [],
   "source": [
    "train = train.set_index(\"instance_id\")\n",
    "test = test.set_index(\"instance_id\")"
   ]
  },
  {
   "cell_type": "code",
   "execution_count": 24,
   "metadata": {},
   "outputs": [
    {
     "data": {
      "text/html": [
       "<div>\n",
       "<style scoped>\n",
       "    .dataframe tbody tr th:only-of-type {\n",
       "        vertical-align: middle;\n",
       "    }\n",
       "\n",
       "    .dataframe tbody tr th {\n",
       "        vertical-align: top;\n",
       "    }\n",
       "\n",
       "    .dataframe thead th {\n",
       "        text-align: right;\n",
       "    }\n",
       "</style>\n",
       "<table border=\"1\" class=\"dataframe\">\n",
       "  <thead>\n",
       "    <tr style=\"text-align: right;\">\n",
       "      <th></th>\n",
       "      <th>item_brand_id</th>\n",
       "      <th>item_city_id</th>\n",
       "      <th>item_price_level</th>\n",
       "      <th>item_sales_level</th>\n",
       "      <th>item_collected_level</th>\n",
       "      <th>item_pv_level</th>\n",
       "      <th>user_age_level</th>\n",
       "      <th>user_occupation_id</th>\n",
       "      <th>user_star_level</th>\n",
       "      <th>shop_review_num_level</th>\n",
       "      <th>...</th>\n",
       "      <th>8_click_cnt</th>\n",
       "      <th>item_id_sum_count</th>\n",
       "      <th>item_category_list_sum_count</th>\n",
       "      <th>item_property_list_sum_count</th>\n",
       "      <th>item_brand_id_sum_count</th>\n",
       "      <th>item_city_id_sum_count</th>\n",
       "      <th>user_id_sum_count</th>\n",
       "      <th>user_gender_id_sum_count</th>\n",
       "      <th>user_occupation_id_sum_count</th>\n",
       "      <th>shop_id_sum_count</th>\n",
       "    </tr>\n",
       "    <tr>\n",
       "      <th>instance_id</th>\n",
       "      <th></th>\n",
       "      <th></th>\n",
       "      <th></th>\n",
       "      <th></th>\n",
       "      <th></th>\n",
       "      <th></th>\n",
       "      <th></th>\n",
       "      <th></th>\n",
       "      <th></th>\n",
       "      <th></th>\n",
       "      <th></th>\n",
       "      <th></th>\n",
       "      <th></th>\n",
       "      <th></th>\n",
       "      <th></th>\n",
       "      <th></th>\n",
       "      <th></th>\n",
       "      <th></th>\n",
       "      <th></th>\n",
       "      <th></th>\n",
       "      <th></th>\n",
       "    </tr>\n",
       "  </thead>\n",
       "  <tbody>\n",
       "    <tr>\n",
       "      <th>6936412019733482260</th>\n",
       "      <td>2668404188936345451</td>\n",
       "      <td>1548565541085191105</td>\n",
       "      <td>6</td>\n",
       "      <td>11</td>\n",
       "      <td>10</td>\n",
       "      <td>15</td>\n",
       "      <td>1004</td>\n",
       "      <td>2002</td>\n",
       "      <td>3000</td>\n",
       "      <td>17</td>\n",
       "      <td>...</td>\n",
       "      <td>8.0</td>\n",
       "      <td>156</td>\n",
       "      <td>79353</td>\n",
       "      <td>156</td>\n",
       "      <td>3082</td>\n",
       "      <td>261074</td>\n",
       "      <td>9</td>\n",
       "      <td>8912160</td>\n",
       "      <td>3948453</td>\n",
       "      <td>3082</td>\n",
       "    </tr>\n",
       "    <tr>\n",
       "      <th>3243610350371409429</th>\n",
       "      <td>-1</td>\n",
       "      <td>8072963182326625214</td>\n",
       "      <td>5</td>\n",
       "      <td>9</td>\n",
       "      <td>12</td>\n",
       "      <td>14</td>\n",
       "      <td>1004</td>\n",
       "      <td>2005</td>\n",
       "      <td>3006</td>\n",
       "      <td>17</td>\n",
       "      <td>...</td>\n",
       "      <td>1.0</td>\n",
       "      <td>183</td>\n",
       "      <td>365120</td>\n",
       "      <td>183</td>\n",
       "      <td>445062</td>\n",
       "      <td>83517</td>\n",
       "      <td>1</td>\n",
       "      <td>8912160</td>\n",
       "      <td>6852621</td>\n",
       "      <td>412</td>\n",
       "    </tr>\n",
       "    <tr>\n",
       "      <th>3476653959691068442</th>\n",
       "      <td>7525527256592380726</td>\n",
       "      <td>6154585379646116922</td>\n",
       "      <td>7</td>\n",
       "      <td>14</td>\n",
       "      <td>14</td>\n",
       "      <td>19</td>\n",
       "      <td>1005</td>\n",
       "      <td>2005</td>\n",
       "      <td>3001</td>\n",
       "      <td>18</td>\n",
       "      <td>...</td>\n",
       "      <td>3.0</td>\n",
       "      <td>4830</td>\n",
       "      <td>633916</td>\n",
       "      <td>4830</td>\n",
       "      <td>12519</td>\n",
       "      <td>54659</td>\n",
       "      <td>3</td>\n",
       "      <td>8912160</td>\n",
       "      <td>6852621</td>\n",
       "      <td>8464</td>\n",
       "    </tr>\n",
       "    <tr>\n",
       "      <th>6932341929408200502</th>\n",
       "      <td>976423300587095646</td>\n",
       "      <td>5326000431362991708</td>\n",
       "      <td>6</td>\n",
       "      <td>12</td>\n",
       "      <td>11</td>\n",
       "      <td>18</td>\n",
       "      <td>1003</td>\n",
       "      <td>2005</td>\n",
       "      <td>3005</td>\n",
       "      <td>14</td>\n",
       "      <td>...</td>\n",
       "      <td>1.0</td>\n",
       "      <td>1701</td>\n",
       "      <td>1536326</td>\n",
       "      <td>1701</td>\n",
       "      <td>8414</td>\n",
       "      <td>178521</td>\n",
       "      <td>2</td>\n",
       "      <td>8912160</td>\n",
       "      <td>6852621</td>\n",
       "      <td>8414</td>\n",
       "    </tr>\n",
       "    <tr>\n",
       "      <th>8887210781708935850</th>\n",
       "      <td>7838285046767229711</td>\n",
       "      <td>196257267849351217</td>\n",
       "      <td>6</td>\n",
       "      <td>8</td>\n",
       "      <td>9</td>\n",
       "      <td>14</td>\n",
       "      <td>1005</td>\n",
       "      <td>2005</td>\n",
       "      <td>3001</td>\n",
       "      <td>12</td>\n",
       "      <td>...</td>\n",
       "      <td>2.0</td>\n",
       "      <td>113</td>\n",
       "      <td>805390</td>\n",
       "      <td>113</td>\n",
       "      <td>1503314</td>\n",
       "      <td>1905371</td>\n",
       "      <td>8</td>\n",
       "      <td>8912160</td>\n",
       "      <td>6852621</td>\n",
       "      <td>915</td>\n",
       "    </tr>\n",
       "  </tbody>\n",
       "</table>\n",
       "<p>5 rows × 43 columns</p>\n",
       "</div>"
      ],
      "text/plain": [
       "                           item_brand_id         item_city_id  \\\n",
       "instance_id                                                     \n",
       "6936412019733482260  2668404188936345451  1548565541085191105   \n",
       "3243610350371409429                   -1  8072963182326625214   \n",
       "3476653959691068442  7525527256592380726  6154585379646116922   \n",
       "6932341929408200502   976423300587095646  5326000431362991708   \n",
       "8887210781708935850  7838285046767229711   196257267849351217   \n",
       "\n",
       "                     item_price_level  item_sales_level  item_collected_level  \\\n",
       "instance_id                                                                     \n",
       "6936412019733482260                 6                11                    10   \n",
       "3243610350371409429                 5                 9                    12   \n",
       "3476653959691068442                 7                14                    14   \n",
       "6932341929408200502                 6                12                    11   \n",
       "8887210781708935850                 6                 8                     9   \n",
       "\n",
       "                     item_pv_level  user_age_level  user_occupation_id  \\\n",
       "instance_id                                                              \n",
       "6936412019733482260             15            1004                2002   \n",
       "3243610350371409429             14            1004                2005   \n",
       "3476653959691068442             19            1005                2005   \n",
       "6932341929408200502             18            1003                2005   \n",
       "8887210781708935850             14            1005                2005   \n",
       "\n",
       "                     user_star_level  shop_review_num_level  \\\n",
       "instance_id                                                   \n",
       "6936412019733482260             3000                     17   \n",
       "3243610350371409429             3006                     17   \n",
       "3476653959691068442             3001                     18   \n",
       "6932341929408200502             3005                     14   \n",
       "8887210781708935850             3001                     12   \n",
       "\n",
       "                           ...          8_click_cnt  item_id_sum_count  \\\n",
       "instance_id                ...                                           \n",
       "6936412019733482260        ...                  8.0                156   \n",
       "3243610350371409429        ...                  1.0                183   \n",
       "3476653959691068442        ...                  3.0               4830   \n",
       "6932341929408200502        ...                  1.0               1701   \n",
       "8887210781708935850        ...                  2.0                113   \n",
       "\n",
       "                     item_category_list_sum_count  \\\n",
       "instance_id                                         \n",
       "6936412019733482260                         79353   \n",
       "3243610350371409429                        365120   \n",
       "3476653959691068442                        633916   \n",
       "6932341929408200502                       1536326   \n",
       "8887210781708935850                        805390   \n",
       "\n",
       "                     item_property_list_sum_count  item_brand_id_sum_count  \\\n",
       "instance_id                                                                  \n",
       "6936412019733482260                           156                     3082   \n",
       "3243610350371409429                           183                   445062   \n",
       "3476653959691068442                          4830                    12519   \n",
       "6932341929408200502                          1701                     8414   \n",
       "8887210781708935850                           113                  1503314   \n",
       "\n",
       "                     item_city_id_sum_count  user_id_sum_count  \\\n",
       "instance_id                                                      \n",
       "6936412019733482260                  261074                  9   \n",
       "3243610350371409429                   83517                  1   \n",
       "3476653959691068442                   54659                  3   \n",
       "6932341929408200502                  178521                  2   \n",
       "8887210781708935850                 1905371                  8   \n",
       "\n",
       "                     user_gender_id_sum_count  user_occupation_id_sum_count  \\\n",
       "instance_id                                                                   \n",
       "6936412019733482260                   8912160                       3948453   \n",
       "3243610350371409429                   8912160                       6852621   \n",
       "3476653959691068442                   8912160                       6852621   \n",
       "6932341929408200502                   8912160                       6852621   \n",
       "8887210781708935850                   8912160                       6852621   \n",
       "\n",
       "                     shop_id_sum_count  \n",
       "instance_id                             \n",
       "6936412019733482260               3082  \n",
       "3243610350371409429                412  \n",
       "3476653959691068442               8464  \n",
       "6932341929408200502               8414  \n",
       "8887210781708935850                915  \n",
       "\n",
       "[5 rows x 43 columns]"
      ]
     },
     "execution_count": 24,
     "metadata": {},
     "output_type": "execute_result"
    }
   ],
   "source": [
    "X_train.head()"
   ]
  },
  {
   "cell_type": "code",
   "execution_count": 28,
   "metadata": {},
   "outputs": [],
   "source": [
    "test = test[X_train.columns]"
   ]
  },
  {
   "cell_type": "code",
   "execution_count": 16,
   "metadata": {},
   "outputs": [],
   "source": [
    "X_tr = train.drop([\"label\"],axis=1)\n",
    "y_tr = train[\"label\"]"
   ]
  },
  {
   "cell_type": "code",
   "execution_count": 17,
   "metadata": {},
   "outputs": [],
   "source": [
    "X_train, X_val, y_train, y_val = train_test_split(X_tr, y_tr, test_size=0.3, random_state=0)"
   ]
  },
  {
   "cell_type": "code",
   "execution_count": null,
   "metadata": {},
   "outputs": [],
   "source": [
    "gc.collect()"
   ]
  },
  {
   "cell_type": "code",
   "execution_count": 18,
   "metadata": {},
   "outputs": [],
   "source": [
    "clf = XGBClassifier(\n",
    "    n_estimators=30,#三十棵树\n",
    "    learning_rate =0.3,\n",
    "    max_depth=7,\n",
    "    min_child_weight=1,\n",
    "    gamma=0.3,\n",
    "    subsample=0.7,\n",
    "    colsample_bytree=0.7,\n",
    "    objective= 'binary:logistic',\n",
    "    nthread=12,\n",
    "    scale_pos_weight=1,\n",
    "    reg_lambda=1,\n",
    "    seed=27)"
   ]
  },
  {
   "cell_type": "code",
   "execution_count": 19,
   "metadata": {},
   "outputs": [
    {
     "name": "stdout",
     "output_type": "stream",
     "text": [
      "[0]\tvalidation_0-logloss:0.457267\n",
      "[1]\tvalidation_0-logloss:0.328233\n",
      "[2]\tvalidation_0-logloss:0.247961\n",
      "[3]\tvalidation_0-logloss:0.195563\n",
      "[4]\tvalidation_0-logloss:0.160497\n",
      "[5]\tvalidation_0-logloss:0.136783\n",
      "[6]\tvalidation_0-logloss:0.12023\n",
      "[7]\tvalidation_0-logloss:0.108858\n",
      "[8]\tvalidation_0-logloss:0.101051\n",
      "[9]\tvalidation_0-logloss:0.095753\n",
      "[10]\tvalidation_0-logloss:0.092252\n",
      "[11]\tvalidation_0-logloss:0.090219\n",
      "[12]\tvalidation_0-logloss:0.088479\n",
      "[13]\tvalidation_0-logloss:0.087244\n",
      "[14]\tvalidation_0-logloss:0.086395\n",
      "[15]\tvalidation_0-logloss:0.085794\n",
      "[16]\tvalidation_0-logloss:0.08528\n",
      "[17]\tvalidation_0-logloss:0.084864\n",
      "[18]\tvalidation_0-logloss:0.084553\n",
      "[19]\tvalidation_0-logloss:0.084353\n",
      "[20]\tvalidation_0-logloss:0.084192\n",
      "[21]\tvalidation_0-logloss:0.084093\n",
      "[22]\tvalidation_0-logloss:0.083979\n",
      "[23]\tvalidation_0-logloss:0.083903\n",
      "[24]\tvalidation_0-logloss:0.083827\n",
      "[25]\tvalidation_0-logloss:0.083789\n",
      "[26]\tvalidation_0-logloss:0.083748\n",
      "[27]\tvalidation_0-logloss:0.083725\n",
      "[28]\tvalidation_0-logloss:0.083708\n",
      "[29]\tvalidation_0-logloss:0.0837\n"
     ]
    },
    {
     "data": {
      "text/plain": [
       "XGBClassifier(base_score=0.5, booster='gbtree', colsample_bylevel=1,\n",
       "       colsample_bytree=0.7, gamma=0.3, learning_rate=0.3,\n",
       "       max_delta_step=0, max_depth=7, min_child_weight=1, missing=None,\n",
       "       n_estimators=30, n_jobs=1, nthread=12, objective='binary:logistic',\n",
       "       random_state=0, reg_alpha=0, reg_lambda=1, scale_pos_weight=1,\n",
       "       seed=27, silent=True, subsample=0.7)"
      ]
     },
     "execution_count": 19,
     "metadata": {},
     "output_type": "execute_result"
    }
   ],
   "source": [
    "clf.fit(X_train,y_train,eval_set=[(X_val, y_val)],verbose=True,eval_metric=\"logloss\")"
   ]
  },
  {
   "cell_type": "code",
   "execution_count": 29,
   "metadata": {},
   "outputs": [],
   "source": [
    "train_new_feature= clf.apply(X_train)#每个样本在每颗树叶子节点的索引值\n",
    "val_new_feature = clf.apply(X_val)\n",
    "test_new_feature= clf.apply(test)\n",
    "train_new_feature2 = pd.DataFrame(train_new_feature)\n",
    "val_new_feature2 = pd.DataFrame(val_new_feature)\n",
    "test_new_feature2 = pd.DataFrame(test_new_feature)"
   ]
  },
  {
   "cell_type": "code",
   "execution_count": 31,
   "metadata": {},
   "outputs": [],
   "source": [
    "train_new_feature2[\"instance_id\"] = X_train.index\n",
    "val_new_feature2[\"instance_id\"] = X_val.index\n",
    "test_new_feature2[\"instance_id\"] = test.index"
   ]
  },
  {
   "cell_type": "code",
   "execution_count": 32,
   "metadata": {},
   "outputs": [
    {
     "data": {
      "text/plain": [
       "(2108132, 31)"
      ]
     },
     "execution_count": 32,
     "metadata": {},
     "output_type": "execute_result"
    }
   ],
   "source": [
    "train_new_feature2.shape"
   ]
  },
  {
   "cell_type": "code",
   "execution_count": 33,
   "metadata": {},
   "outputs": [
    {
     "data": {
      "text/plain": [
       "(903486, 31)"
      ]
     },
     "execution_count": 33,
     "metadata": {},
     "output_type": "execute_result"
    }
   ],
   "source": [
    "val_new_feature2.shape"
   ]
  },
  {
   "cell_type": "code",
   "execution_count": 34,
   "metadata": {},
   "outputs": [
    {
     "data": {
      "text/plain": [
       "(1209768, 31)"
      ]
     },
     "execution_count": 34,
     "metadata": {},
     "output_type": "execute_result"
    }
   ],
   "source": [
    "test_new_feature2.shape"
   ]
  },
  {
   "cell_type": "code",
   "execution_count": 35,
   "metadata": {},
   "outputs": [],
   "source": [
    "train = pd.read_pickle(\"../data/raw_data/base_preprocess_train.pickle\")"
   ]
  },
  {
   "cell_type": "code",
   "execution_count": 36,
   "metadata": {},
   "outputs": [],
   "source": [
    "train_leaf = pd.merge(train_new_feature2,train,\"left\",on=[\"instance_id\"])"
   ]
  },
  {
   "cell_type": "code",
   "execution_count": 37,
   "metadata": {},
   "outputs": [],
   "source": [
    "test = pd.read_pickle(\"../data/raw_data/base_preprocess_test.pickle\")"
   ]
  },
  {
   "cell_type": "code",
   "execution_count": 38,
   "metadata": {},
   "outputs": [],
   "source": [
    "test_leaf = pd.merge(test_new_feature2,test,\"left\",on=[\"instance_id\"])"
   ]
  },
  {
   "cell_type": "code",
   "execution_count": 39,
   "metadata": {},
   "outputs": [],
   "source": [
    "val_leaf = pd.merge(val_new_feature2,train,\"left\",on=[\"instance_id\"])"
   ]
  },
  {
   "cell_type": "code",
   "execution_count": 41,
   "metadata": {},
   "outputs": [],
   "source": [
    "train_leaf.rename(columns={\"is_trade\":\"label\"},inplace=True)"
   ]
  },
  {
   "cell_type": "code",
   "execution_count": 42,
   "metadata": {},
   "outputs": [],
   "source": [
    "val_leaf.rename(columns={\"is_trade\":\"label\"},inplace=True)"
   ]
  },
  {
   "cell_type": "code",
   "execution_count": 44,
   "metadata": {},
   "outputs": [],
   "source": [
    "drop = [\"context_timestamp\",\"hour\"]"
   ]
  },
  {
   "cell_type": "code",
   "execution_count": 45,
   "metadata": {},
   "outputs": [],
   "source": [
    "train_leaf = train_leaf.drop(drop,axis=1)\n",
    "val_leaf = val_leaf.drop(drop,axis=1)\n",
    "test_leaf = test_leaf.drop(drop,axis=1)"
   ]
  },
  {
   "cell_type": "code",
   "execution_count": 47,
   "metadata": {},
   "outputs": [],
   "source": [
    "train_leaf.to_pickle(\"../data/merge_data/train_set.pickle\")\n",
    "val_leaf.to_pickle(\"../data/merge_data/val_set.pickle\")\n",
    "test_leaf.to_pickle(\"../data/merge_data/test_set.pickle\")"
   ]
  },
  {
   "cell_type": "code",
   "execution_count": null,
   "metadata": {},
   "outputs": [],
   "source": []
  },
  {
   "cell_type": "code",
   "execution_count": null,
   "metadata": {},
   "outputs": [],
   "source": []
  },
  {
   "cell_type": "code",
   "execution_count": null,
   "metadata": {},
   "outputs": [],
   "source": []
  },
  {
   "cell_type": "code",
   "execution_count": null,
   "metadata": {},
   "outputs": [],
   "source": []
  },
  {
   "cell_type": "code",
   "execution_count": null,
   "metadata": {},
   "outputs": [],
   "source": []
  },
  {
   "cell_type": "code",
   "execution_count": null,
   "metadata": {},
   "outputs": [],
   "source": []
  },
  {
   "cell_type": "code",
   "execution_count": null,
   "metadata": {},
   "outputs": [],
   "source": []
  },
  {
   "cell_type": "code",
   "execution_count": 92,
   "metadata": {},
   "outputs": [],
   "source": [
    "test = pd.read_pickle(\"../data/temp_data/test_20180514.pickle\")"
   ]
  },
  {
   "cell_type": "code",
   "execution_count": 93,
   "metadata": {},
   "outputs": [],
   "source": [
    "orign_train = pd.read_pickle(\"../data/raw_data/base_preprocess_train.pickle\")[[\"instance_id\",\"is_trade\"]]"
   ]
  },
  {
   "cell_type": "code",
   "execution_count": 94,
   "metadata": {},
   "outputs": [],
   "source": [
    "train = pd.merge(train,orign_train,how=\"left\",on=[\"instance_id\"])"
   ]
  },
  {
   "cell_type": "code",
   "execution_count": 95,
   "metadata": {},
   "outputs": [],
   "source": [
    "train.rename(columns={\"is_trade\":\"label\"},inplace=True)"
   ]
  },
  {
   "cell_type": "code",
   "execution_count": 96,
   "metadata": {},
   "outputs": [],
   "source": [
    "train = train.set_index(\"instance_id\")\n",
    "test = test.set_index(\"instance_id\")"
   ]
  },
  {
   "cell_type": "code",
   "execution_count": 97,
   "metadata": {},
   "outputs": [],
   "source": [
    "X_tr = train.drop([\"label\"],axis=1)"
   ]
  },
  {
   "cell_type": "code",
   "execution_count": 98,
   "metadata": {},
   "outputs": [],
   "source": [
    "y_tr = train[\"label\"]"
   ]
  },
  {
   "cell_type": "code",
   "execution_count": 99,
   "metadata": {},
   "outputs": [],
   "source": [
    "X_train, X_test, y_train, y_test = train_test_split(X_tr, y_tr, test_size=0.3, random_state=0)"
   ]
  },
  {
   "cell_type": "code",
   "execution_count": 100,
   "metadata": {},
   "outputs": [],
   "source": [
    "clf = XGBClassifier(\n",
    "    n_estimators=30,#三十棵树\n",
    "    learning_rate =0.3,\n",
    "    max_depth=7,\n",
    "    min_child_weight=1,\n",
    "    gamma=0.3,\n",
    "    subsample=0.8,\n",
    "    colsample_bytree=0.8,\n",
    "    objective= 'binary:logistic',\n",
    "    nthread=12,\n",
    "    scale_pos_weight=1,\n",
    "    reg_lambda=1,\n",
    "    seed=27)"
   ]
  },
  {
   "cell_type": "code",
   "execution_count": 101,
   "metadata": {},
   "outputs": [
    {
     "name": "stdout",
     "output_type": "stream",
     "text": [
      "[0]\tvalidation_0-logloss:0.452385\n",
      "[1]\tvalidation_0-logloss:0.320219\n",
      "[2]\tvalidation_0-logloss:0.238107\n",
      "[3]\tvalidation_0-logloss:0.184267\n",
      "[4]\tvalidation_0-logloss:0.147992\n",
      "[5]\tvalidation_0-logloss:0.123221\n",
      "[6]\tvalidation_0-logloss:0.106177\n",
      "[7]\tvalidation_0-logloss:0.094544\n",
      "[8]\tvalidation_0-logloss:0.086526\n",
      "[9]\tvalidation_0-logloss:0.08106\n",
      "[10]\tvalidation_0-logloss:0.077369\n",
      "[11]\tvalidation_0-logloss:0.074899\n",
      "[12]\tvalidation_0-logloss:0.073247\n",
      "[13]\tvalidation_0-logloss:0.072118\n",
      "[14]\tvalidation_0-logloss:0.07132\n",
      "[15]\tvalidation_0-logloss:0.070788\n",
      "[16]\tvalidation_0-logloss:0.070449\n",
      "[17]\tvalidation_0-logloss:0.070167\n",
      "[18]\tvalidation_0-logloss:0.069812\n",
      "[19]\tvalidation_0-logloss:0.069645\n",
      "[20]\tvalidation_0-logloss:0.069482\n",
      "[21]\tvalidation_0-logloss:0.069333\n",
      "[22]\tvalidation_0-logloss:0.069285\n",
      "[23]\tvalidation_0-logloss:0.069207\n",
      "[24]\tvalidation_0-logloss:0.069176\n",
      "[25]\tvalidation_0-logloss:0.069129\n",
      "[26]\tvalidation_0-logloss:0.069065\n",
      "[27]\tvalidation_0-logloss:0.069013\n",
      "[28]\tvalidation_0-logloss:0.068893\n",
      "[29]\tvalidation_0-logloss:0.068881\n"
     ]
    }
   ],
   "source": [
    "model_sklearn=clf.fit(X_train,y_train,eval_set=[(X_test, y_test)],verbose=True,eval_metric=\"logloss\")"
   ]
  },
  {
   "cell_type": "code",
   "execution_count": 102,
   "metadata": {},
   "outputs": [],
   "source": [
    "y_sklearn= clf.predict_proba(test)[:,1]"
   ]
  },
  {
   "cell_type": "code",
   "execution_count": 103,
   "metadata": {},
   "outputs": [],
   "source": [
    "train_new_feature= clf.apply(X_train)#每个样本在每颗树叶子节点的索引值\n",
    "test_new_feature= clf.apply(test)\n",
    "val_new_feature = clf.apply(X_test)\n",
    "train_new_feature2 = pd.DataFrame(train_new_feature)\n",
    "test_new_feature2 = pd.DataFrame(test_new_feature)\n",
    "val_new_feature2 = pd.DataFrame(val_new_feature)"
   ]
  },
  {
   "cell_type": "code",
   "execution_count": 104,
   "metadata": {},
   "outputs": [
    {
     "data": {
      "text/plain": [
       "(1209768, 30)"
      ]
     },
     "execution_count": 104,
     "metadata": {},
     "output_type": "execute_result"
    }
   ],
   "source": [
    "test_new_feature2.shape"
   ]
  },
  {
   "cell_type": "code",
   "execution_count": 105,
   "metadata": {},
   "outputs": [],
   "source": [
    "train_new_feature2[\"instance_id\"] = X_train.index"
   ]
  },
  {
   "cell_type": "code",
   "execution_count": 106,
   "metadata": {},
   "outputs": [
    {
     "data": {
      "text/html": [
       "<div>\n",
       "<style scoped>\n",
       "    .dataframe tbody tr th:only-of-type {\n",
       "        vertical-align: middle;\n",
       "    }\n",
       "\n",
       "    .dataframe tbody tr th {\n",
       "        vertical-align: top;\n",
       "    }\n",
       "\n",
       "    .dataframe thead th {\n",
       "        text-align: right;\n",
       "    }\n",
       "</style>\n",
       "<table border=\"1\" class=\"dataframe\">\n",
       "  <thead>\n",
       "    <tr style=\"text-align: right;\">\n",
       "      <th></th>\n",
       "      <th>0</th>\n",
       "      <th>1</th>\n",
       "      <th>2</th>\n",
       "      <th>3</th>\n",
       "      <th>4</th>\n",
       "      <th>5</th>\n",
       "      <th>6</th>\n",
       "      <th>7</th>\n",
       "      <th>8</th>\n",
       "      <th>9</th>\n",
       "      <th>...</th>\n",
       "      <th>21</th>\n",
       "      <th>22</th>\n",
       "      <th>23</th>\n",
       "      <th>24</th>\n",
       "      <th>25</th>\n",
       "      <th>26</th>\n",
       "      <th>27</th>\n",
       "      <th>28</th>\n",
       "      <th>29</th>\n",
       "      <th>instance_id</th>\n",
       "    </tr>\n",
       "  </thead>\n",
       "  <tbody>\n",
       "    <tr>\n",
       "      <th>0</th>\n",
       "      <td>139</td>\n",
       "      <td>123</td>\n",
       "      <td>162</td>\n",
       "      <td>177</td>\n",
       "      <td>177</td>\n",
       "      <td>191</td>\n",
       "      <td>196</td>\n",
       "      <td>200</td>\n",
       "      <td>203</td>\n",
       "      <td>182</td>\n",
       "      <td>...</td>\n",
       "      <td>205</td>\n",
       "      <td>122</td>\n",
       "      <td>152</td>\n",
       "      <td>126</td>\n",
       "      <td>153</td>\n",
       "      <td>152</td>\n",
       "      <td>191</td>\n",
       "      <td>220</td>\n",
       "      <td>131</td>\n",
       "      <td>5255693663890267764</td>\n",
       "    </tr>\n",
       "    <tr>\n",
       "      <th>1</th>\n",
       "      <td>115</td>\n",
       "      <td>99</td>\n",
       "      <td>113</td>\n",
       "      <td>123</td>\n",
       "      <td>123</td>\n",
       "      <td>125</td>\n",
       "      <td>131</td>\n",
       "      <td>139</td>\n",
       "      <td>129</td>\n",
       "      <td>128</td>\n",
       "      <td>...</td>\n",
       "      <td>125</td>\n",
       "      <td>122</td>\n",
       "      <td>137</td>\n",
       "      <td>125</td>\n",
       "      <td>148</td>\n",
       "      <td>138</td>\n",
       "      <td>143</td>\n",
       "      <td>146</td>\n",
       "      <td>141</td>\n",
       "      <td>4200685782953460413</td>\n",
       "    </tr>\n",
       "    <tr>\n",
       "      <th>2</th>\n",
       "      <td>61</td>\n",
       "      <td>131</td>\n",
       "      <td>139</td>\n",
       "      <td>151</td>\n",
       "      <td>153</td>\n",
       "      <td>157</td>\n",
       "      <td>160</td>\n",
       "      <td>127</td>\n",
       "      <td>159</td>\n",
       "      <td>157</td>\n",
       "      <td>...</td>\n",
       "      <td>123</td>\n",
       "      <td>183</td>\n",
       "      <td>125</td>\n",
       "      <td>153</td>\n",
       "      <td>148</td>\n",
       "      <td>141</td>\n",
       "      <td>179</td>\n",
       "      <td>131</td>\n",
       "      <td>141</td>\n",
       "      <td>5506474860604604248</td>\n",
       "    </tr>\n",
       "    <tr>\n",
       "      <th>3</th>\n",
       "      <td>115</td>\n",
       "      <td>78</td>\n",
       "      <td>139</td>\n",
       "      <td>151</td>\n",
       "      <td>209</td>\n",
       "      <td>155</td>\n",
       "      <td>163</td>\n",
       "      <td>140</td>\n",
       "      <td>163</td>\n",
       "      <td>165</td>\n",
       "      <td>...</td>\n",
       "      <td>211</td>\n",
       "      <td>146</td>\n",
       "      <td>149</td>\n",
       "      <td>153</td>\n",
       "      <td>154</td>\n",
       "      <td>108</td>\n",
       "      <td>159</td>\n",
       "      <td>169</td>\n",
       "      <td>142</td>\n",
       "      <td>6097483227205151795</td>\n",
       "    </tr>\n",
       "    <tr>\n",
       "      <th>4</th>\n",
       "      <td>171</td>\n",
       "      <td>149</td>\n",
       "      <td>179</td>\n",
       "      <td>203</td>\n",
       "      <td>181</td>\n",
       "      <td>207</td>\n",
       "      <td>211</td>\n",
       "      <td>220</td>\n",
       "      <td>216</td>\n",
       "      <td>189</td>\n",
       "      <td>...</td>\n",
       "      <td>215</td>\n",
       "      <td>174</td>\n",
       "      <td>159</td>\n",
       "      <td>150</td>\n",
       "      <td>142</td>\n",
       "      <td>117</td>\n",
       "      <td>161</td>\n",
       "      <td>216</td>\n",
       "      <td>142</td>\n",
       "      <td>3916708243982899341</td>\n",
       "    </tr>\n",
       "  </tbody>\n",
       "</table>\n",
       "<p>5 rows × 31 columns</p>\n",
       "</div>"
      ],
      "text/plain": [
       "     0    1    2    3    4    5    6    7    8    9         ...            21  \\\n",
       "0  139  123  162  177  177  191  196  200  203  182         ...           205   \n",
       "1  115   99  113  123  123  125  131  139  129  128         ...           125   \n",
       "2   61  131  139  151  153  157  160  127  159  157         ...           123   \n",
       "3  115   78  139  151  209  155  163  140  163  165         ...           211   \n",
       "4  171  149  179  203  181  207  211  220  216  189         ...           215   \n",
       "\n",
       "    22   23   24   25   26   27   28   29          instance_id  \n",
       "0  122  152  126  153  152  191  220  131  5255693663890267764  \n",
       "1  122  137  125  148  138  143  146  141  4200685782953460413  \n",
       "2  183  125  153  148  141  179  131  141  5506474860604604248  \n",
       "3  146  149  153  154  108  159  169  142  6097483227205151795  \n",
       "4  174  159  150  142  117  161  216  142  3916708243982899341  \n",
       "\n",
       "[5 rows x 31 columns]"
      ]
     },
     "execution_count": 106,
     "metadata": {},
     "output_type": "execute_result"
    }
   ],
   "source": [
    "train_new_feature2.head()"
   ]
  },
  {
   "cell_type": "code",
   "execution_count": 107,
   "metadata": {},
   "outputs": [],
   "source": [
    "test_new_feature2[\"instance_id\"] = test.index"
   ]
  },
  {
   "cell_type": "code",
   "execution_count": 108,
   "metadata": {},
   "outputs": [],
   "source": [
    "val_new_feature2[\"instance_id\"] = X_test.index"
   ]
  },
  {
   "cell_type": "code",
   "execution_count": 114,
   "metadata": {},
   "outputs": [],
   "source": [
    "train_new_feature2.to_pickle(\"../data/temp_data/train_leaf_feats.pickle\")"
   ]
  },
  {
   "cell_type": "code",
   "execution_count": 116,
   "metadata": {},
   "outputs": [],
   "source": [
    "test_new_feature2.to_pickle(\"../data/temp_data/test_leaf_feats.pickle\")"
   ]
  },
  {
   "cell_type": "code",
   "execution_count": 115,
   "metadata": {},
   "outputs": [],
   "source": [
    "val_new_feature2.to_pickle(\"../data/temp_data/val_leaf_feats.pickle\")"
   ]
  },
  {
   "cell_type": "code",
   "execution_count": 117,
   "metadata": {},
   "outputs": [],
   "source": [
    "X_train = X_train.reset_index()"
   ]
  },
  {
   "cell_type": "code",
   "execution_count": 118,
   "metadata": {},
   "outputs": [],
   "source": [
    "X_test = X_test.reset_index()"
   ]
  },
  {
   "cell_type": "code",
   "execution_count": 121,
   "metadata": {},
   "outputs": [
    {
     "data": {
      "text/plain": [
       "4817"
      ]
     },
     "execution_count": 121,
     "metadata": {},
     "output_type": "execute_result"
    }
   ],
   "source": [
    "del train_new_feature2,train_new_feature,test_new_feature2,test_new_feature,val_new_feature2,val_new_feature\n",
    "gc.collect()"
   ]
  },
  {
   "cell_type": "code",
   "execution_count": 122,
   "metadata": {},
   "outputs": [
    {
     "data": {
      "text/plain": [
       "14"
      ]
     },
     "execution_count": 122,
     "metadata": {},
     "output_type": "execute_result"
    }
   ],
   "source": [
    "del train,test\n",
    "gc.collect()"
   ]
  },
  {
   "cell_type": "code",
   "execution_count": 119,
   "metadata": {},
   "outputs": [],
   "source": [
    "orign_train = pd.read_pickle(\"../data/raw_data/base_preprocess_train.pickle\")"
   ]
  },
  {
   "cell_type": "code",
   "execution_count": 120,
   "metadata": {},
   "outputs": [],
   "source": [
    "orign_test = pd.read_pickle(\"../data/raw_data/base_preprocess_test.pickle\")"
   ]
  },
  {
   "cell_type": "code",
   "execution_count": 123,
   "metadata": {},
   "outputs": [],
   "source": [
    "X_train = X_train[[\"instance_id\"]].reset_index()"
   ]
  },
  {
   "cell_type": "code",
   "execution_count": 124,
   "metadata": {},
   "outputs": [],
   "source": [
    "X_train.to_pickle(\"../data/temp_data/X_train.pickle\")"
   ]
  },
  {
   "cell_type": "code",
   "execution_count": 125,
   "metadata": {},
   "outputs": [],
   "source": [
    "X_test = X_test[[\"instance_id\"]].reset_index()"
   ]
  },
  {
   "cell_type": "code",
   "execution_count": 127,
   "metadata": {},
   "outputs": [],
   "source": [
    "X_test.to_pickle(\"../data/temp_data/X_test.pickle\")"
   ]
  },
  {
   "cell_type": "code",
   "execution_count": null,
   "metadata": {},
   "outputs": [],
   "source": []
  },
  {
   "cell_type": "code",
   "execution_count": 77,
   "metadata": {},
   "outputs": [],
   "source": [
    "train = train.reset_index()\n",
    "X_train = X_train.reset_index()"
   ]
  },
  {
   "cell_type": "code",
   "execution_count": 78,
   "metadata": {},
   "outputs": [],
   "source": [
    "X_train = pd.merge(X_train,train[[\"instance_id\",\"label\"]],\"left\",on=[\"instance_id\"])"
   ]
  },
  {
   "cell_type": "code",
   "execution_count": 81,
   "metadata": {},
   "outputs": [
    {
     "data": {
      "text/plain": [
       "(1649162, 52)"
      ]
     },
     "execution_count": 81,
     "metadata": {},
     "output_type": "execute_result"
    }
   ],
   "source": [
    "X_train.shape"
   ]
  },
  {
   "cell_type": "code",
   "execution_count": null,
   "metadata": {},
   "outputs": [],
   "source": []
  },
  {
   "cell_type": "code",
   "execution_count": null,
   "metadata": {},
   "outputs": [],
   "source": []
  },
  {
   "cell_type": "code",
   "execution_count": null,
   "metadata": {},
   "outputs": [],
   "source": []
  },
  {
   "cell_type": "code",
   "execution_count": null,
   "metadata": {},
   "outputs": [],
   "source": []
  },
  {
   "cell_type": "code",
   "execution_count": null,
   "metadata": {},
   "outputs": [],
   "source": []
  },
  {
   "cell_type": "code",
   "execution_count": null,
   "metadata": {},
   "outputs": [],
   "source": []
  },
  {
   "cell_type": "code",
   "execution_count": null,
   "metadata": {},
   "outputs": [],
   "source": []
  },
  {
   "cell_type": "code",
   "execution_count": null,
   "metadata": {},
   "outputs": [],
   "source": []
  },
  {
   "cell_type": "code",
   "execution_count": null,
   "metadata": {},
   "outputs": [],
   "source": []
  },
  {
   "cell_type": "code",
   "execution_count": 40,
   "metadata": {},
   "outputs": [],
   "source": [
    "clf = XGBClassifier(\n",
    "    n_estimators=30,#三十棵树\n",
    "    learning_rate =0.3,\n",
    "    max_depth=7,\n",
    "    min_child_weight=1,\n",
    "    gamma=0.3,\n",
    "    subsample=0.8,\n",
    "    colsample_bytree=0.8,\n",
    "    objective= 'binary:logistic',\n",
    "    nthread=12,\n",
    "    scale_pos_weight=1,\n",
    "    reg_lambda=1,\n",
    "    seed=27)"
   ]
  },
  {
   "cell_type": "code",
   "execution_count": 26,
   "metadata": {},
   "outputs": [],
   "source": [
    "model_sklearn=clf.fit(X_tr, y_tr)"
   ]
  },
  {
   "cell_type": "code",
   "execution_count": 28,
   "metadata": {},
   "outputs": [],
   "source": [
    "y_sklearn= clf.predict_proba(X_ts)[:,1]"
   ]
  },
  {
   "cell_type": "code",
   "execution_count": 30,
   "metadata": {},
   "outputs": [],
   "source": [
    "train_new_feature= clf.apply(X_tr)#每个样本在每颗树叶子节点的索引值"
   ]
  },
  {
   "cell_type": "code",
   "execution_count": 31,
   "metadata": {},
   "outputs": [],
   "source": [
    "test_new_feature= clf.apply(X_ts)"
   ]
  },
  {
   "cell_type": "code",
   "execution_count": 35,
   "metadata": {},
   "outputs": [],
   "source": [
    "train_new_feature2 = pd.DataFrame(train_new_feature)"
   ]
  },
  {
   "cell_type": "code",
   "execution_count": 38,
   "metadata": {},
   "outputs": [],
   "source": [
    "test_new_feature2 = pd.DataFrame(test_new_feature)"
   ]
  },
  {
   "cell_type": "code",
   "execution_count": null,
   "metadata": {},
   "outputs": [],
   "source": [
    "train_new_feature2[\"instance_id\"] = train[\"instance_id\"]"
   ]
  },
  {
   "cell_type": "code",
   "execution_count": null,
   "metadata": {},
   "outputs": [],
   "source": []
  },
  {
   "cell_type": "code",
   "execution_count": null,
   "metadata": {},
   "outputs": [],
   "source": []
  },
  {
   "cell_type": "code",
   "execution_count": null,
   "metadata": {},
   "outputs": [],
   "source": []
  },
  {
   "cell_type": "code",
   "execution_count": null,
   "metadata": {},
   "outputs": [],
   "source": []
  },
  {
   "cell_type": "code",
   "execution_count": null,
   "metadata": {},
   "outputs": [],
   "source": []
  },
  {
   "cell_type": "code",
   "execution_count": 11,
   "metadata": {},
   "outputs": [],
   "source": [
    "cate_feature = [\"item_id\",\"user_id\",\"context_id\",\"shop_id\",\"item_category_list\",\"item_property_list\",\"item_brand_id\",\"item_city_id\",\"item_price_level\",\"item_sales_level\",\"item_collected_level\",\"item_pv_level\",\"user_gender_id\",\"user_age_level\",\"user_occupation_id\",\"user_star_level\",\"context_page_id\",\"predict_category_property\",\"shop_review_num_level\",\"shop_score_service\",\"shop_star_level\"]"
   ]
  },
  {
   "cell_type": "code",
   "execution_count": 13,
   "metadata": {},
   "outputs": [],
   "source": [
    "nume_feature = [\"shop_review_positive_rate\",\"shop_score_delivery\",\"shop_score_description\"]"
   ]
  },
  {
   "cell_type": "code",
   "execution_count": 14,
   "metadata": {},
   "outputs": [],
   "source": [
    "label = [\"is_trade\"]"
   ]
  },
  {
   "cell_type": "code",
   "execution_count": 15,
   "metadata": {},
   "outputs": [],
   "source": [
    "instance = [\"instance_id\"]"
   ]
  }
 ],
 "metadata": {
  "kernelspec": {
   "display_name": "Python 3",
   "language": "python",
   "name": "python3"
  },
  "language_info": {
   "codemirror_mode": {
    "name": "ipython",
    "version": 3
   },
   "file_extension": ".py",
   "mimetype": "text/x-python",
   "name": "python",
   "nbconvert_exporter": "python",
   "pygments_lexer": "ipython3",
   "version": "3.6.4"
  }
 },
 "nbformat": 4,
 "nbformat_minor": 2
}
