{
 "cells": [
  {
   "cell_type": "code",
   "execution_count": 22,
   "metadata": {},
   "outputs": [],
   "source": [
    "import pandas as pd\n",
    "import numpy as np\n",
    "import time\n",
    "import subprocess\n",
    "import gc"
   ]
  },
  {
   "cell_type": "code",
   "execution_count": 23,
   "metadata": {},
   "outputs": [],
   "source": [
    "def base_process(readpath):   #Unix时间脱敏，并转化为中国时区，平移24小时，则train数据集的时间为1日~8日上午，test数据集的时间为8日下午\n",
    "    df = pd.read_csv(readpath,sep=\" \")\n",
    "    df[\"context_timestamp\"] = df[\"context_timestamp\"].apply(lambda x:time.strftime(\"%Y-%m-%d %H:%M:%S\",time.localtime(x)))\n",
    "    df[\"context_timestamp\"] = pd.DatetimeIndex(df[\"context_timestamp\"]).shift(+24,freq=\"H\")     \n",
    "    df[\"context_timestamp\"] = pd.to_datetime(df[\"context_timestamp\"],unit=\"s\")\n",
    "    df[\"day\"] = df[\"context_timestamp\"].dt.day\n",
    "    df[\"hour\"] = df[\"context_timestamp\"].dt.hour\n",
    "    return df"
   ]
  },
  {
   "cell_type": "code",
   "execution_count": 3,
   "metadata": {},
   "outputs": [
    {
     "name": "stdout",
     "output_type": "stream",
     "text": [
      "Wall time: 22min 32s\n"
     ]
    }
   ],
   "source": [
    "%%time\n",
    "train = base_process(\"../data/raw_data/round2_ijcai_18_train_20180425.txt\")"
   ]
  },
  {
   "cell_type": "code",
   "execution_count": 24,
   "metadata": {},
   "outputs": [
    {
     "name": "stdout",
     "output_type": "stream",
     "text": [
      "Wall time: 1min 22s\n"
     ]
    }
   ],
   "source": [
    "%%time\n",
    "test = base_process(\"../data/raw_data/round2_ijcai_18_test_b_20180510.txt\")"
   ]
  },
  {
   "cell_type": "code",
   "execution_count": 26,
   "metadata": {},
   "outputs": [],
   "source": [
    "from memoryOptimize import memory_optimze"
   ]
  },
  {
   "cell_type": "code",
   "execution_count": 5,
   "metadata": {},
   "outputs": [
    {
     "name": "stdout",
     "output_type": "stream",
     "text": [
      "**********正在统计数据所占内存大小****************\n",
      "*******处理int型***************\n",
      "******处理float型**************\n",
      "**********处理object型（字符型）**************\n",
      "优化前，数据集所占内存大小为11680.738045692444M\n",
      "优化后，数据集所占内存大小为1553.6165294647217M\n",
      "优化后，内存减小了86.6993290716107%\n"
     ]
    }
   ],
   "source": [
    "train = memory_optimze(train)"
   ]
  },
  {
   "cell_type": "code",
   "execution_count": 8,
   "metadata": {},
   "outputs": [],
   "source": [
    "train.to_pickle(\"../data/raw_data/base_preprocess_train.pickle\") #生成pickle文件，有利于减少内存"
   ]
  },
  {
   "cell_type": "code",
   "execution_count": 27,
   "metadata": {},
   "outputs": [
    {
     "name": "stdout",
     "output_type": "stream",
     "text": [
      "**********正在统计数据所占内存大小****************\n",
      "*******处理int型***************\n",
      "******处理float型**************\n",
      "**********处理object型（字符型）**************\n",
      "优化前，数据集所占内存大小为1349.7871475219727M\n",
      "优化后，数据集所占内存大小为225.00482368469238M\n",
      "优化后，内存减小了83.33034774425205%\n"
     ]
    }
   ],
   "source": [
    "test = memory_optimze(test)\n",
    "test.to_pickle(\"../data/raw_data/base_preprocess_test.pickle\")"
   ]
  },
  {
   "cell_type": "code",
   "execution_count": 2,
   "metadata": {},
   "outputs": [],
   "source": [
    "train = pd.read_pickle(\"../data/raw_data/base_preprocess_train.pickle\")\n",
    "X_tr = train.drop([\"is_trade\",\"item_category_list\",\"item_property_list\",\"predict_category_property\",\"context_timestamp\"],axis=1)#同时丢弃类目特征及时间特征\n",
    "y_tr = train[\"is_trade\"]"
   ]
  },
  {
   "cell_type": "code",
   "execution_count": null,
   "metadata": {},
   "outputs": [],
   "source": [
    "test = pd.read_pickle(\"../data/raw_data/base_preprocess_test.pickle\")\n",
    "X_ts = test.drop([\"item_category_list\",\"item_property_list\",\"predict_category_property\",\"context_timestamp\"],axis=1) #同时丢弃类目特征及时间特征"
   ]
  },
  {
   "cell_type": "code",
   "execution_count": 30,
   "metadata": {},
   "outputs": [],
   "source": [
    "from sklearn.model_selection import train_test_split\n",
    "from xgboost.sklearn import XGBClassifier\n",
    "import xgboost as xgb"
   ]
  },
  {
   "cell_type": "code",
   "execution_count": 5,
   "metadata": {},
   "outputs": [],
   "source": [
    "X_train, X_test, y_train, y_test = train_test_split(X_tr, y_tr, test_size=0.3, random_state=0)"
   ]
  },
  {
   "cell_type": "code",
   "execution_count": 6,
   "metadata": {},
   "outputs": [],
   "source": [
    "X_train = X_train.drop([\"item_category_list\",\"item_property_list\",\"predict_category_property\",\"context_timestamp\"],axis=1)"
   ]
  },
  {
   "cell_type": "code",
   "execution_count": 8,
   "metadata": {},
   "outputs": [],
   "source": [
    "X_test = X_test.drop([\"item_category_list\",\"item_property_list\",\"predict_category_property\",\"context_timestamp\"],axis=1)"
   ]
  },
  {
   "cell_type": "code",
   "execution_count": 31,
   "metadata": {},
   "outputs": [],
   "source": [
    "clf = XGBClassifier(\n",
    "    n_estimators=100,#三十棵树\n",
    "    learning_rate =0.3,\n",
    "    max_depth=3,\n",
    "    min_child_weight=1,\n",
    "    gamma=0.3,\n",
    "    subsample=0.8,\n",
    "    colsample_bytree=0.8,\n",
    "    objective= 'binary:logistic',\n",
    "    nthread=12,\n",
    "    scale_pos_weight=1,\n",
    "    reg_lambda=1,\n",
    "    seed=27)"
   ]
  },
  {
   "cell_type": "code",
   "execution_count": 32,
   "metadata": {},
   "outputs": [],
   "source": [
    "model_sklearn=clf.fit(X_tr, y_tr)"
   ]
  },
  {
   "cell_type": "code",
   "execution_count": 40,
   "metadata": {},
   "outputs": [
    {
     "data": {
      "text/plain": [
       "80"
      ]
     },
     "execution_count": 40,
     "metadata": {},
     "output_type": "execute_result"
    }
   ],
   "source": [
    "gc.collect()"
   ]
  },
  {
   "cell_type": "code",
   "execution_count": 34,
   "metadata": {},
   "outputs": [],
   "source": [
    "y_sklearn= clf.predict_proba(X_ts)[:,1]"
   ]
  },
  {
   "cell_type": "code",
   "execution_count": 35,
   "metadata": {},
   "outputs": [],
   "source": [
    "from sklearn import metrics"
   ]
  },
  {
   "cell_type": "code",
   "execution_count": 37,
   "metadata": {},
   "outputs": [],
   "source": [
    "#获取每个样本在每颗树叶子节点的索引值\n",
    "test_new_feature= clf.apply(X_ts)"
   ]
  },
  {
   "cell_type": "code",
   "execution_count": 1,
   "metadata": {},
   "outputs": [],
   "source": [
    "train_new_feature= clf.apply(X_tr)"
   ]
  },
  {
   "cell_type": "code",
   "execution_count": 16,
   "metadata": {},
   "outputs": [],
   "source": [
    "train_new_feature2 = pd.DataFrame(train_new_feature)"
   ]
  },
  {
   "cell_type": "code",
   "execution_count": 17,
   "metadata": {},
   "outputs": [],
   "source": [
    "test_new_feature2 = pd.DataFrame(test_new_feature)"
   ]
  },
  {
   "cell_type": "code",
   "execution_count": 18,
   "metadata": {},
   "outputs": [
    {
     "name": "stdout",
     "output_type": "stream",
     "text": [
      "新的特征集(sklearn接口)： (7302425, 100)\n",
      "新的测试集(sklearn接口)： (3129611, 100)\n"
     ]
    }
   ],
   "source": [
    "print(\"新的特征集(sklearn接口)：\",train_new_feature2.shape)\n",
    "print(\"新的测试集(sklearn接口)：\",test_new_feature2.shape)  "
   ]
  },
  {
   "cell_type": "code",
   "execution_count": 19,
   "metadata": {},
   "outputs": [
    {
     "data": {
      "text/html": [
       "<div>\n",
       "<style scoped>\n",
       "    .dataframe tbody tr th:only-of-type {\n",
       "        vertical-align: middle;\n",
       "    }\n",
       "\n",
       "    .dataframe tbody tr th {\n",
       "        vertical-align: top;\n",
       "    }\n",
       "\n",
       "    .dataframe thead th {\n",
       "        text-align: right;\n",
       "    }\n",
       "</style>\n",
       "<table border=\"1\" class=\"dataframe\">\n",
       "  <thead>\n",
       "    <tr style=\"text-align: right;\">\n",
       "      <th></th>\n",
       "      <th>0</th>\n",
       "      <th>1</th>\n",
       "      <th>2</th>\n",
       "      <th>3</th>\n",
       "      <th>4</th>\n",
       "      <th>5</th>\n",
       "      <th>6</th>\n",
       "      <th>7</th>\n",
       "      <th>8</th>\n",
       "      <th>9</th>\n",
       "      <th>...</th>\n",
       "      <th>90</th>\n",
       "      <th>91</th>\n",
       "      <th>92</th>\n",
       "      <th>93</th>\n",
       "      <th>94</th>\n",
       "      <th>95</th>\n",
       "      <th>96</th>\n",
       "      <th>97</th>\n",
       "      <th>98</th>\n",
       "      <th>99</th>\n",
       "    </tr>\n",
       "  </thead>\n",
       "  <tbody>\n",
       "    <tr>\n",
       "      <th>0</th>\n",
       "      <td>13</td>\n",
       "      <td>10</td>\n",
       "      <td>8</td>\n",
       "      <td>10</td>\n",
       "      <td>8</td>\n",
       "      <td>8</td>\n",
       "      <td>7</td>\n",
       "      <td>9</td>\n",
       "      <td>10</td>\n",
       "      <td>13</td>\n",
       "      <td>...</td>\n",
       "      <td>13</td>\n",
       "      <td>14</td>\n",
       "      <td>14</td>\n",
       "      <td>13</td>\n",
       "      <td>9</td>\n",
       "      <td>10</td>\n",
       "      <td>8</td>\n",
       "      <td>10</td>\n",
       "      <td>10</td>\n",
       "      <td>7</td>\n",
       "    </tr>\n",
       "    <tr>\n",
       "      <th>1</th>\n",
       "      <td>13</td>\n",
       "      <td>10</td>\n",
       "      <td>8</td>\n",
       "      <td>10</td>\n",
       "      <td>8</td>\n",
       "      <td>8</td>\n",
       "      <td>8</td>\n",
       "      <td>8</td>\n",
       "      <td>9</td>\n",
       "      <td>13</td>\n",
       "      <td>...</td>\n",
       "      <td>14</td>\n",
       "      <td>13</td>\n",
       "      <td>7</td>\n",
       "      <td>12</td>\n",
       "      <td>8</td>\n",
       "      <td>10</td>\n",
       "      <td>14</td>\n",
       "      <td>8</td>\n",
       "      <td>10</td>\n",
       "      <td>13</td>\n",
       "    </tr>\n",
       "    <tr>\n",
       "      <th>2</th>\n",
       "      <td>12</td>\n",
       "      <td>9</td>\n",
       "      <td>7</td>\n",
       "      <td>9</td>\n",
       "      <td>7</td>\n",
       "      <td>7</td>\n",
       "      <td>7</td>\n",
       "      <td>7</td>\n",
       "      <td>7</td>\n",
       "      <td>12</td>\n",
       "      <td>...</td>\n",
       "      <td>13</td>\n",
       "      <td>13</td>\n",
       "      <td>7</td>\n",
       "      <td>13</td>\n",
       "      <td>10</td>\n",
       "      <td>10</td>\n",
       "      <td>11</td>\n",
       "      <td>7</td>\n",
       "      <td>9</td>\n",
       "      <td>11</td>\n",
       "    </tr>\n",
       "    <tr>\n",
       "      <th>3</th>\n",
       "      <td>13</td>\n",
       "      <td>10</td>\n",
       "      <td>8</td>\n",
       "      <td>10</td>\n",
       "      <td>8</td>\n",
       "      <td>8</td>\n",
       "      <td>7</td>\n",
       "      <td>9</td>\n",
       "      <td>9</td>\n",
       "      <td>13</td>\n",
       "      <td>...</td>\n",
       "      <td>13</td>\n",
       "      <td>14</td>\n",
       "      <td>14</td>\n",
       "      <td>14</td>\n",
       "      <td>9</td>\n",
       "      <td>10</td>\n",
       "      <td>14</td>\n",
       "      <td>11</td>\n",
       "      <td>10</td>\n",
       "      <td>7</td>\n",
       "    </tr>\n",
       "    <tr>\n",
       "      <th>4</th>\n",
       "      <td>13</td>\n",
       "      <td>10</td>\n",
       "      <td>8</td>\n",
       "      <td>10</td>\n",
       "      <td>8</td>\n",
       "      <td>8</td>\n",
       "      <td>7</td>\n",
       "      <td>7</td>\n",
       "      <td>10</td>\n",
       "      <td>13</td>\n",
       "      <td>...</td>\n",
       "      <td>13</td>\n",
       "      <td>14</td>\n",
       "      <td>7</td>\n",
       "      <td>14</td>\n",
       "      <td>10</td>\n",
       "      <td>10</td>\n",
       "      <td>8</td>\n",
       "      <td>8</td>\n",
       "      <td>9</td>\n",
       "      <td>11</td>\n",
       "    </tr>\n",
       "    <tr>\n",
       "      <th>5</th>\n",
       "      <td>12</td>\n",
       "      <td>13</td>\n",
       "      <td>7</td>\n",
       "      <td>13</td>\n",
       "      <td>7</td>\n",
       "      <td>9</td>\n",
       "      <td>9</td>\n",
       "      <td>7</td>\n",
       "      <td>11</td>\n",
       "      <td>12</td>\n",
       "      <td>...</td>\n",
       "      <td>13</td>\n",
       "      <td>14</td>\n",
       "      <td>7</td>\n",
       "      <td>13</td>\n",
       "      <td>14</td>\n",
       "      <td>10</td>\n",
       "      <td>14</td>\n",
       "      <td>7</td>\n",
       "      <td>10</td>\n",
       "      <td>13</td>\n",
       "    </tr>\n",
       "    <tr>\n",
       "      <th>6</th>\n",
       "      <td>14</td>\n",
       "      <td>10</td>\n",
       "      <td>8</td>\n",
       "      <td>10</td>\n",
       "      <td>8</td>\n",
       "      <td>8</td>\n",
       "      <td>8</td>\n",
       "      <td>9</td>\n",
       "      <td>9</td>\n",
       "      <td>14</td>\n",
       "      <td>...</td>\n",
       "      <td>8</td>\n",
       "      <td>9</td>\n",
       "      <td>7</td>\n",
       "      <td>8</td>\n",
       "      <td>9</td>\n",
       "      <td>10</td>\n",
       "      <td>14</td>\n",
       "      <td>8</td>\n",
       "      <td>7</td>\n",
       "      <td>7</td>\n",
       "    </tr>\n",
       "    <tr>\n",
       "      <th>7</th>\n",
       "      <td>13</td>\n",
       "      <td>10</td>\n",
       "      <td>8</td>\n",
       "      <td>10</td>\n",
       "      <td>8</td>\n",
       "      <td>8</td>\n",
       "      <td>7</td>\n",
       "      <td>7</td>\n",
       "      <td>9</td>\n",
       "      <td>13</td>\n",
       "      <td>...</td>\n",
       "      <td>13</td>\n",
       "      <td>14</td>\n",
       "      <td>7</td>\n",
       "      <td>14</td>\n",
       "      <td>10</td>\n",
       "      <td>10</td>\n",
       "      <td>7</td>\n",
       "      <td>8</td>\n",
       "      <td>14</td>\n",
       "      <td>11</td>\n",
       "    </tr>\n",
       "    <tr>\n",
       "      <th>8</th>\n",
       "      <td>14</td>\n",
       "      <td>10</td>\n",
       "      <td>8</td>\n",
       "      <td>10</td>\n",
       "      <td>8</td>\n",
       "      <td>8</td>\n",
       "      <td>7</td>\n",
       "      <td>9</td>\n",
       "      <td>9</td>\n",
       "      <td>14</td>\n",
       "      <td>...</td>\n",
       "      <td>7</td>\n",
       "      <td>14</td>\n",
       "      <td>14</td>\n",
       "      <td>13</td>\n",
       "      <td>9</td>\n",
       "      <td>11</td>\n",
       "      <td>14</td>\n",
       "      <td>14</td>\n",
       "      <td>7</td>\n",
       "      <td>7</td>\n",
       "    </tr>\n",
       "    <tr>\n",
       "      <th>9</th>\n",
       "      <td>9</td>\n",
       "      <td>8</td>\n",
       "      <td>8</td>\n",
       "      <td>8</td>\n",
       "      <td>8</td>\n",
       "      <td>8</td>\n",
       "      <td>7</td>\n",
       "      <td>7</td>\n",
       "      <td>7</td>\n",
       "      <td>7</td>\n",
       "      <td>...</td>\n",
       "      <td>13</td>\n",
       "      <td>14</td>\n",
       "      <td>7</td>\n",
       "      <td>11</td>\n",
       "      <td>8</td>\n",
       "      <td>9</td>\n",
       "      <td>8</td>\n",
       "      <td>7</td>\n",
       "      <td>14</td>\n",
       "      <td>13</td>\n",
       "    </tr>\n",
       "    <tr>\n",
       "      <th>10</th>\n",
       "      <td>12</td>\n",
       "      <td>13</td>\n",
       "      <td>7</td>\n",
       "      <td>13</td>\n",
       "      <td>7</td>\n",
       "      <td>9</td>\n",
       "      <td>9</td>\n",
       "      <td>7</td>\n",
       "      <td>11</td>\n",
       "      <td>12</td>\n",
       "      <td>...</td>\n",
       "      <td>13</td>\n",
       "      <td>14</td>\n",
       "      <td>7</td>\n",
       "      <td>14</td>\n",
       "      <td>14</td>\n",
       "      <td>14</td>\n",
       "      <td>14</td>\n",
       "      <td>7</td>\n",
       "      <td>14</td>\n",
       "      <td>13</td>\n",
       "    </tr>\n",
       "    <tr>\n",
       "      <th>11</th>\n",
       "      <td>13</td>\n",
       "      <td>14</td>\n",
       "      <td>8</td>\n",
       "      <td>14</td>\n",
       "      <td>8</td>\n",
       "      <td>10</td>\n",
       "      <td>10</td>\n",
       "      <td>9</td>\n",
       "      <td>11</td>\n",
       "      <td>13</td>\n",
       "      <td>...</td>\n",
       "      <td>13</td>\n",
       "      <td>14</td>\n",
       "      <td>13</td>\n",
       "      <td>11</td>\n",
       "      <td>14</td>\n",
       "      <td>10</td>\n",
       "      <td>12</td>\n",
       "      <td>9</td>\n",
       "      <td>10</td>\n",
       "      <td>12</td>\n",
       "    </tr>\n",
       "    <tr>\n",
       "      <th>12</th>\n",
       "      <td>7</td>\n",
       "      <td>8</td>\n",
       "      <td>7</td>\n",
       "      <td>8</td>\n",
       "      <td>7</td>\n",
       "      <td>7</td>\n",
       "      <td>8</td>\n",
       "      <td>7</td>\n",
       "      <td>8</td>\n",
       "      <td>8</td>\n",
       "      <td>...</td>\n",
       "      <td>13</td>\n",
       "      <td>14</td>\n",
       "      <td>7</td>\n",
       "      <td>12</td>\n",
       "      <td>14</td>\n",
       "      <td>10</td>\n",
       "      <td>14</td>\n",
       "      <td>7</td>\n",
       "      <td>10</td>\n",
       "      <td>7</td>\n",
       "    </tr>\n",
       "    <tr>\n",
       "      <th>13</th>\n",
       "      <td>12</td>\n",
       "      <td>9</td>\n",
       "      <td>7</td>\n",
       "      <td>9</td>\n",
       "      <td>7</td>\n",
       "      <td>7</td>\n",
       "      <td>8</td>\n",
       "      <td>9</td>\n",
       "      <td>8</td>\n",
       "      <td>12</td>\n",
       "      <td>...</td>\n",
       "      <td>13</td>\n",
       "      <td>14</td>\n",
       "      <td>7</td>\n",
       "      <td>14</td>\n",
       "      <td>14</td>\n",
       "      <td>10</td>\n",
       "      <td>14</td>\n",
       "      <td>7</td>\n",
       "      <td>14</td>\n",
       "      <td>9</td>\n",
       "    </tr>\n",
       "    <tr>\n",
       "      <th>14</th>\n",
       "      <td>14</td>\n",
       "      <td>10</td>\n",
       "      <td>8</td>\n",
       "      <td>10</td>\n",
       "      <td>8</td>\n",
       "      <td>8</td>\n",
       "      <td>7</td>\n",
       "      <td>7</td>\n",
       "      <td>9</td>\n",
       "      <td>14</td>\n",
       "      <td>...</td>\n",
       "      <td>7</td>\n",
       "      <td>8</td>\n",
       "      <td>7</td>\n",
       "      <td>13</td>\n",
       "      <td>9</td>\n",
       "      <td>9</td>\n",
       "      <td>14</td>\n",
       "      <td>8</td>\n",
       "      <td>8</td>\n",
       "      <td>7</td>\n",
       "    </tr>\n",
       "    <tr>\n",
       "      <th>15</th>\n",
       "      <td>13</td>\n",
       "      <td>10</td>\n",
       "      <td>8</td>\n",
       "      <td>10</td>\n",
       "      <td>8</td>\n",
       "      <td>8</td>\n",
       "      <td>7</td>\n",
       "      <td>7</td>\n",
       "      <td>9</td>\n",
       "      <td>13</td>\n",
       "      <td>...</td>\n",
       "      <td>7</td>\n",
       "      <td>9</td>\n",
       "      <td>9</td>\n",
       "      <td>13</td>\n",
       "      <td>9</td>\n",
       "      <td>10</td>\n",
       "      <td>12</td>\n",
       "      <td>9</td>\n",
       "      <td>7</td>\n",
       "      <td>7</td>\n",
       "    </tr>\n",
       "    <tr>\n",
       "      <th>16</th>\n",
       "      <td>14</td>\n",
       "      <td>9</td>\n",
       "      <td>8</td>\n",
       "      <td>10</td>\n",
       "      <td>8</td>\n",
       "      <td>8</td>\n",
       "      <td>7</td>\n",
       "      <td>9</td>\n",
       "      <td>7</td>\n",
       "      <td>14</td>\n",
       "      <td>...</td>\n",
       "      <td>7</td>\n",
       "      <td>12</td>\n",
       "      <td>14</td>\n",
       "      <td>13</td>\n",
       "      <td>10</td>\n",
       "      <td>10</td>\n",
       "      <td>14</td>\n",
       "      <td>14</td>\n",
       "      <td>14</td>\n",
       "      <td>8</td>\n",
       "    </tr>\n",
       "    <tr>\n",
       "      <th>17</th>\n",
       "      <td>10</td>\n",
       "      <td>7</td>\n",
       "      <td>8</td>\n",
       "      <td>7</td>\n",
       "      <td>8</td>\n",
       "      <td>8</td>\n",
       "      <td>7</td>\n",
       "      <td>10</td>\n",
       "      <td>9</td>\n",
       "      <td>10</td>\n",
       "      <td>...</td>\n",
       "      <td>10</td>\n",
       "      <td>9</td>\n",
       "      <td>14</td>\n",
       "      <td>11</td>\n",
       "      <td>8</td>\n",
       "      <td>10</td>\n",
       "      <td>8</td>\n",
       "      <td>14</td>\n",
       "      <td>8</td>\n",
       "      <td>7</td>\n",
       "    </tr>\n",
       "    <tr>\n",
       "      <th>18</th>\n",
       "      <td>12</td>\n",
       "      <td>9</td>\n",
       "      <td>7</td>\n",
       "      <td>9</td>\n",
       "      <td>7</td>\n",
       "      <td>7</td>\n",
       "      <td>8</td>\n",
       "      <td>7</td>\n",
       "      <td>8</td>\n",
       "      <td>12</td>\n",
       "      <td>...</td>\n",
       "      <td>13</td>\n",
       "      <td>14</td>\n",
       "      <td>7</td>\n",
       "      <td>12</td>\n",
       "      <td>14</td>\n",
       "      <td>10</td>\n",
       "      <td>14</td>\n",
       "      <td>7</td>\n",
       "      <td>10</td>\n",
       "      <td>7</td>\n",
       "    </tr>\n",
       "    <tr>\n",
       "      <th>19</th>\n",
       "      <td>7</td>\n",
       "      <td>7</td>\n",
       "      <td>7</td>\n",
       "      <td>7</td>\n",
       "      <td>7</td>\n",
       "      <td>7</td>\n",
       "      <td>7</td>\n",
       "      <td>9</td>\n",
       "      <td>7</td>\n",
       "      <td>7</td>\n",
       "      <td>...</td>\n",
       "      <td>8</td>\n",
       "      <td>9</td>\n",
       "      <td>7</td>\n",
       "      <td>11</td>\n",
       "      <td>7</td>\n",
       "      <td>10</td>\n",
       "      <td>13</td>\n",
       "      <td>7</td>\n",
       "      <td>14</td>\n",
       "      <td>7</td>\n",
       "    </tr>\n",
       "    <tr>\n",
       "      <th>20</th>\n",
       "      <td>12</td>\n",
       "      <td>9</td>\n",
       "      <td>7</td>\n",
       "      <td>9</td>\n",
       "      <td>7</td>\n",
       "      <td>7</td>\n",
       "      <td>7</td>\n",
       "      <td>10</td>\n",
       "      <td>7</td>\n",
       "      <td>12</td>\n",
       "      <td>...</td>\n",
       "      <td>14</td>\n",
       "      <td>14</td>\n",
       "      <td>7</td>\n",
       "      <td>13</td>\n",
       "      <td>14</td>\n",
       "      <td>10</td>\n",
       "      <td>8</td>\n",
       "      <td>7</td>\n",
       "      <td>14</td>\n",
       "      <td>7</td>\n",
       "    </tr>\n",
       "    <tr>\n",
       "      <th>21</th>\n",
       "      <td>9</td>\n",
       "      <td>7</td>\n",
       "      <td>8</td>\n",
       "      <td>7</td>\n",
       "      <td>8</td>\n",
       "      <td>8</td>\n",
       "      <td>7</td>\n",
       "      <td>9</td>\n",
       "      <td>9</td>\n",
       "      <td>9</td>\n",
       "      <td>...</td>\n",
       "      <td>7</td>\n",
       "      <td>10</td>\n",
       "      <td>9</td>\n",
       "      <td>11</td>\n",
       "      <td>8</td>\n",
       "      <td>10</td>\n",
       "      <td>7</td>\n",
       "      <td>9</td>\n",
       "      <td>8</td>\n",
       "      <td>11</td>\n",
       "    </tr>\n",
       "    <tr>\n",
       "      <th>22</th>\n",
       "      <td>13</td>\n",
       "      <td>10</td>\n",
       "      <td>8</td>\n",
       "      <td>10</td>\n",
       "      <td>8</td>\n",
       "      <td>8</td>\n",
       "      <td>7</td>\n",
       "      <td>10</td>\n",
       "      <td>9</td>\n",
       "      <td>13</td>\n",
       "      <td>...</td>\n",
       "      <td>14</td>\n",
       "      <td>14</td>\n",
       "      <td>14</td>\n",
       "      <td>14</td>\n",
       "      <td>9</td>\n",
       "      <td>10</td>\n",
       "      <td>8</td>\n",
       "      <td>11</td>\n",
       "      <td>10</td>\n",
       "      <td>7</td>\n",
       "    </tr>\n",
       "    <tr>\n",
       "      <th>23</th>\n",
       "      <td>14</td>\n",
       "      <td>10</td>\n",
       "      <td>8</td>\n",
       "      <td>10</td>\n",
       "      <td>8</td>\n",
       "      <td>8</td>\n",
       "      <td>7</td>\n",
       "      <td>9</td>\n",
       "      <td>10</td>\n",
       "      <td>14</td>\n",
       "      <td>...</td>\n",
       "      <td>13</td>\n",
       "      <td>14</td>\n",
       "      <td>7</td>\n",
       "      <td>14</td>\n",
       "      <td>9</td>\n",
       "      <td>14</td>\n",
       "      <td>8</td>\n",
       "      <td>8</td>\n",
       "      <td>14</td>\n",
       "      <td>7</td>\n",
       "    </tr>\n",
       "    <tr>\n",
       "      <th>24</th>\n",
       "      <td>13</td>\n",
       "      <td>14</td>\n",
       "      <td>8</td>\n",
       "      <td>14</td>\n",
       "      <td>8</td>\n",
       "      <td>10</td>\n",
       "      <td>9</td>\n",
       "      <td>7</td>\n",
       "      <td>12</td>\n",
       "      <td>13</td>\n",
       "      <td>...</td>\n",
       "      <td>13</td>\n",
       "      <td>14</td>\n",
       "      <td>7</td>\n",
       "      <td>14</td>\n",
       "      <td>14</td>\n",
       "      <td>10</td>\n",
       "      <td>8</td>\n",
       "      <td>7</td>\n",
       "      <td>10</td>\n",
       "      <td>9</td>\n",
       "    </tr>\n",
       "    <tr>\n",
       "      <th>25</th>\n",
       "      <td>13</td>\n",
       "      <td>9</td>\n",
       "      <td>8</td>\n",
       "      <td>10</td>\n",
       "      <td>8</td>\n",
       "      <td>8</td>\n",
       "      <td>7</td>\n",
       "      <td>7</td>\n",
       "      <td>7</td>\n",
       "      <td>13</td>\n",
       "      <td>...</td>\n",
       "      <td>13</td>\n",
       "      <td>13</td>\n",
       "      <td>7</td>\n",
       "      <td>13</td>\n",
       "      <td>10</td>\n",
       "      <td>10</td>\n",
       "      <td>12</td>\n",
       "      <td>7</td>\n",
       "      <td>14</td>\n",
       "      <td>12</td>\n",
       "    </tr>\n",
       "    <tr>\n",
       "      <th>26</th>\n",
       "      <td>13</td>\n",
       "      <td>9</td>\n",
       "      <td>8</td>\n",
       "      <td>10</td>\n",
       "      <td>8</td>\n",
       "      <td>8</td>\n",
       "      <td>7</td>\n",
       "      <td>7</td>\n",
       "      <td>7</td>\n",
       "      <td>13</td>\n",
       "      <td>...</td>\n",
       "      <td>13</td>\n",
       "      <td>14</td>\n",
       "      <td>7</td>\n",
       "      <td>13</td>\n",
       "      <td>10</td>\n",
       "      <td>9</td>\n",
       "      <td>12</td>\n",
       "      <td>7</td>\n",
       "      <td>14</td>\n",
       "      <td>11</td>\n",
       "    </tr>\n",
       "    <tr>\n",
       "      <th>27</th>\n",
       "      <td>14</td>\n",
       "      <td>10</td>\n",
       "      <td>8</td>\n",
       "      <td>10</td>\n",
       "      <td>8</td>\n",
       "      <td>8</td>\n",
       "      <td>7</td>\n",
       "      <td>9</td>\n",
       "      <td>9</td>\n",
       "      <td>14</td>\n",
       "      <td>...</td>\n",
       "      <td>7</td>\n",
       "      <td>12</td>\n",
       "      <td>14</td>\n",
       "      <td>13</td>\n",
       "      <td>9</td>\n",
       "      <td>10</td>\n",
       "      <td>14</td>\n",
       "      <td>14</td>\n",
       "      <td>8</td>\n",
       "      <td>7</td>\n",
       "    </tr>\n",
       "    <tr>\n",
       "      <th>28</th>\n",
       "      <td>14</td>\n",
       "      <td>10</td>\n",
       "      <td>8</td>\n",
       "      <td>10</td>\n",
       "      <td>8</td>\n",
       "      <td>8</td>\n",
       "      <td>7</td>\n",
       "      <td>9</td>\n",
       "      <td>10</td>\n",
       "      <td>14</td>\n",
       "      <td>...</td>\n",
       "      <td>13</td>\n",
       "      <td>14</td>\n",
       "      <td>7</td>\n",
       "      <td>14</td>\n",
       "      <td>9</td>\n",
       "      <td>10</td>\n",
       "      <td>14</td>\n",
       "      <td>8</td>\n",
       "      <td>14</td>\n",
       "      <td>7</td>\n",
       "    </tr>\n",
       "    <tr>\n",
       "      <th>29</th>\n",
       "      <td>14</td>\n",
       "      <td>10</td>\n",
       "      <td>8</td>\n",
       "      <td>10</td>\n",
       "      <td>8</td>\n",
       "      <td>8</td>\n",
       "      <td>7</td>\n",
       "      <td>9</td>\n",
       "      <td>9</td>\n",
       "      <td>14</td>\n",
       "      <td>...</td>\n",
       "      <td>7</td>\n",
       "      <td>14</td>\n",
       "      <td>14</td>\n",
       "      <td>13</td>\n",
       "      <td>9</td>\n",
       "      <td>10</td>\n",
       "      <td>14</td>\n",
       "      <td>8</td>\n",
       "      <td>14</td>\n",
       "      <td>7</td>\n",
       "    </tr>\n",
       "    <tr>\n",
       "      <th>...</th>\n",
       "      <td>...</td>\n",
       "      <td>...</td>\n",
       "      <td>...</td>\n",
       "      <td>...</td>\n",
       "      <td>...</td>\n",
       "      <td>...</td>\n",
       "      <td>...</td>\n",
       "      <td>...</td>\n",
       "      <td>...</td>\n",
       "      <td>...</td>\n",
       "      <td>...</td>\n",
       "      <td>...</td>\n",
       "      <td>...</td>\n",
       "      <td>...</td>\n",
       "      <td>...</td>\n",
       "      <td>...</td>\n",
       "      <td>...</td>\n",
       "      <td>...</td>\n",
       "      <td>...</td>\n",
       "      <td>...</td>\n",
       "      <td>...</td>\n",
       "    </tr>\n",
       "    <tr>\n",
       "      <th>3129581</th>\n",
       "      <td>13</td>\n",
       "      <td>9</td>\n",
       "      <td>8</td>\n",
       "      <td>10</td>\n",
       "      <td>8</td>\n",
       "      <td>8</td>\n",
       "      <td>7</td>\n",
       "      <td>8</td>\n",
       "      <td>7</td>\n",
       "      <td>13</td>\n",
       "      <td>...</td>\n",
       "      <td>14</td>\n",
       "      <td>14</td>\n",
       "      <td>7</td>\n",
       "      <td>14</td>\n",
       "      <td>14</td>\n",
       "      <td>10</td>\n",
       "      <td>14</td>\n",
       "      <td>7</td>\n",
       "      <td>14</td>\n",
       "      <td>7</td>\n",
       "    </tr>\n",
       "    <tr>\n",
       "      <th>3129582</th>\n",
       "      <td>13</td>\n",
       "      <td>10</td>\n",
       "      <td>8</td>\n",
       "      <td>10</td>\n",
       "      <td>8</td>\n",
       "      <td>8</td>\n",
       "      <td>7</td>\n",
       "      <td>10</td>\n",
       "      <td>10</td>\n",
       "      <td>13</td>\n",
       "      <td>...</td>\n",
       "      <td>14</td>\n",
       "      <td>14</td>\n",
       "      <td>10</td>\n",
       "      <td>14</td>\n",
       "      <td>10</td>\n",
       "      <td>10</td>\n",
       "      <td>12</td>\n",
       "      <td>9</td>\n",
       "      <td>13</td>\n",
       "      <td>11</td>\n",
       "    </tr>\n",
       "    <tr>\n",
       "      <th>3129583</th>\n",
       "      <td>9</td>\n",
       "      <td>7</td>\n",
       "      <td>12</td>\n",
       "      <td>7</td>\n",
       "      <td>12</td>\n",
       "      <td>12</td>\n",
       "      <td>12</td>\n",
       "      <td>13</td>\n",
       "      <td>7</td>\n",
       "      <td>7</td>\n",
       "      <td>...</td>\n",
       "      <td>14</td>\n",
       "      <td>14</td>\n",
       "      <td>13</td>\n",
       "      <td>11</td>\n",
       "      <td>7</td>\n",
       "      <td>10</td>\n",
       "      <td>8</td>\n",
       "      <td>9</td>\n",
       "      <td>9</td>\n",
       "      <td>7</td>\n",
       "    </tr>\n",
       "    <tr>\n",
       "      <th>3129584</th>\n",
       "      <td>9</td>\n",
       "      <td>11</td>\n",
       "      <td>8</td>\n",
       "      <td>11</td>\n",
       "      <td>8</td>\n",
       "      <td>10</td>\n",
       "      <td>9</td>\n",
       "      <td>7</td>\n",
       "      <td>11</td>\n",
       "      <td>7</td>\n",
       "      <td>...</td>\n",
       "      <td>13</td>\n",
       "      <td>14</td>\n",
       "      <td>7</td>\n",
       "      <td>11</td>\n",
       "      <td>14</td>\n",
       "      <td>10</td>\n",
       "      <td>14</td>\n",
       "      <td>7</td>\n",
       "      <td>14</td>\n",
       "      <td>7</td>\n",
       "    </tr>\n",
       "    <tr>\n",
       "      <th>3129585</th>\n",
       "      <td>14</td>\n",
       "      <td>9</td>\n",
       "      <td>8</td>\n",
       "      <td>10</td>\n",
       "      <td>8</td>\n",
       "      <td>8</td>\n",
       "      <td>7</td>\n",
       "      <td>9</td>\n",
       "      <td>7</td>\n",
       "      <td>14</td>\n",
       "      <td>...</td>\n",
       "      <td>13</td>\n",
       "      <td>14</td>\n",
       "      <td>10</td>\n",
       "      <td>13</td>\n",
       "      <td>9</td>\n",
       "      <td>10</td>\n",
       "      <td>14</td>\n",
       "      <td>10</td>\n",
       "      <td>10</td>\n",
       "      <td>7</td>\n",
       "    </tr>\n",
       "    <tr>\n",
       "      <th>3129586</th>\n",
       "      <td>9</td>\n",
       "      <td>8</td>\n",
       "      <td>8</td>\n",
       "      <td>8</td>\n",
       "      <td>8</td>\n",
       "      <td>8</td>\n",
       "      <td>8</td>\n",
       "      <td>7</td>\n",
       "      <td>10</td>\n",
       "      <td>9</td>\n",
       "      <td>...</td>\n",
       "      <td>13</td>\n",
       "      <td>14</td>\n",
       "      <td>7</td>\n",
       "      <td>12</td>\n",
       "      <td>8</td>\n",
       "      <td>10</td>\n",
       "      <td>14</td>\n",
       "      <td>8</td>\n",
       "      <td>10</td>\n",
       "      <td>13</td>\n",
       "    </tr>\n",
       "    <tr>\n",
       "      <th>3129587</th>\n",
       "      <td>13</td>\n",
       "      <td>9</td>\n",
       "      <td>8</td>\n",
       "      <td>10</td>\n",
       "      <td>8</td>\n",
       "      <td>8</td>\n",
       "      <td>8</td>\n",
       "      <td>7</td>\n",
       "      <td>8</td>\n",
       "      <td>13</td>\n",
       "      <td>...</td>\n",
       "      <td>13</td>\n",
       "      <td>14</td>\n",
       "      <td>7</td>\n",
       "      <td>13</td>\n",
       "      <td>10</td>\n",
       "      <td>10</td>\n",
       "      <td>14</td>\n",
       "      <td>7</td>\n",
       "      <td>10</td>\n",
       "      <td>13</td>\n",
       "    </tr>\n",
       "    <tr>\n",
       "      <th>3129588</th>\n",
       "      <td>10</td>\n",
       "      <td>7</td>\n",
       "      <td>8</td>\n",
       "      <td>7</td>\n",
       "      <td>8</td>\n",
       "      <td>8</td>\n",
       "      <td>8</td>\n",
       "      <td>9</td>\n",
       "      <td>9</td>\n",
       "      <td>10</td>\n",
       "      <td>...</td>\n",
       "      <td>13</td>\n",
       "      <td>14</td>\n",
       "      <td>14</td>\n",
       "      <td>12</td>\n",
       "      <td>8</td>\n",
       "      <td>10</td>\n",
       "      <td>14</td>\n",
       "      <td>14</td>\n",
       "      <td>14</td>\n",
       "      <td>7</td>\n",
       "    </tr>\n",
       "    <tr>\n",
       "      <th>3129589</th>\n",
       "      <td>12</td>\n",
       "      <td>9</td>\n",
       "      <td>7</td>\n",
       "      <td>9</td>\n",
       "      <td>7</td>\n",
       "      <td>7</td>\n",
       "      <td>7</td>\n",
       "      <td>9</td>\n",
       "      <td>7</td>\n",
       "      <td>12</td>\n",
       "      <td>...</td>\n",
       "      <td>7</td>\n",
       "      <td>9</td>\n",
       "      <td>7</td>\n",
       "      <td>10</td>\n",
       "      <td>9</td>\n",
       "      <td>7</td>\n",
       "      <td>13</td>\n",
       "      <td>7</td>\n",
       "      <td>8</td>\n",
       "      <td>7</td>\n",
       "    </tr>\n",
       "    <tr>\n",
       "      <th>3129590</th>\n",
       "      <td>9</td>\n",
       "      <td>11</td>\n",
       "      <td>8</td>\n",
       "      <td>11</td>\n",
       "      <td>8</td>\n",
       "      <td>10</td>\n",
       "      <td>10</td>\n",
       "      <td>9</td>\n",
       "      <td>12</td>\n",
       "      <td>9</td>\n",
       "      <td>...</td>\n",
       "      <td>13</td>\n",
       "      <td>14</td>\n",
       "      <td>14</td>\n",
       "      <td>11</td>\n",
       "      <td>14</td>\n",
       "      <td>10</td>\n",
       "      <td>10</td>\n",
       "      <td>10</td>\n",
       "      <td>10</td>\n",
       "      <td>13</td>\n",
       "    </tr>\n",
       "    <tr>\n",
       "      <th>3129591</th>\n",
       "      <td>13</td>\n",
       "      <td>9</td>\n",
       "      <td>8</td>\n",
       "      <td>10</td>\n",
       "      <td>8</td>\n",
       "      <td>8</td>\n",
       "      <td>7</td>\n",
       "      <td>9</td>\n",
       "      <td>7</td>\n",
       "      <td>13</td>\n",
       "      <td>...</td>\n",
       "      <td>13</td>\n",
       "      <td>14</td>\n",
       "      <td>10</td>\n",
       "      <td>11</td>\n",
       "      <td>8</td>\n",
       "      <td>10</td>\n",
       "      <td>14</td>\n",
       "      <td>10</td>\n",
       "      <td>10</td>\n",
       "      <td>9</td>\n",
       "    </tr>\n",
       "    <tr>\n",
       "      <th>3129592</th>\n",
       "      <td>13</td>\n",
       "      <td>10</td>\n",
       "      <td>8</td>\n",
       "      <td>10</td>\n",
       "      <td>8</td>\n",
       "      <td>8</td>\n",
       "      <td>7</td>\n",
       "      <td>7</td>\n",
       "      <td>10</td>\n",
       "      <td>13</td>\n",
       "      <td>...</td>\n",
       "      <td>13</td>\n",
       "      <td>14</td>\n",
       "      <td>7</td>\n",
       "      <td>13</td>\n",
       "      <td>10</td>\n",
       "      <td>10</td>\n",
       "      <td>8</td>\n",
       "      <td>8</td>\n",
       "      <td>10</td>\n",
       "      <td>13</td>\n",
       "    </tr>\n",
       "    <tr>\n",
       "      <th>3129593</th>\n",
       "      <td>9</td>\n",
       "      <td>11</td>\n",
       "      <td>8</td>\n",
       "      <td>11</td>\n",
       "      <td>8</td>\n",
       "      <td>10</td>\n",
       "      <td>10</td>\n",
       "      <td>9</td>\n",
       "      <td>12</td>\n",
       "      <td>9</td>\n",
       "      <td>...</td>\n",
       "      <td>13</td>\n",
       "      <td>14</td>\n",
       "      <td>14</td>\n",
       "      <td>11</td>\n",
       "      <td>13</td>\n",
       "      <td>10</td>\n",
       "      <td>8</td>\n",
       "      <td>10</td>\n",
       "      <td>13</td>\n",
       "      <td>9</td>\n",
       "    </tr>\n",
       "    <tr>\n",
       "      <th>3129594</th>\n",
       "      <td>10</td>\n",
       "      <td>7</td>\n",
       "      <td>8</td>\n",
       "      <td>7</td>\n",
       "      <td>8</td>\n",
       "      <td>8</td>\n",
       "      <td>7</td>\n",
       "      <td>9</td>\n",
       "      <td>7</td>\n",
       "      <td>7</td>\n",
       "      <td>...</td>\n",
       "      <td>13</td>\n",
       "      <td>13</td>\n",
       "      <td>14</td>\n",
       "      <td>11</td>\n",
       "      <td>8</td>\n",
       "      <td>10</td>\n",
       "      <td>14</td>\n",
       "      <td>14</td>\n",
       "      <td>10</td>\n",
       "      <td>7</td>\n",
       "    </tr>\n",
       "    <tr>\n",
       "      <th>3129595</th>\n",
       "      <td>12</td>\n",
       "      <td>9</td>\n",
       "      <td>7</td>\n",
       "      <td>9</td>\n",
       "      <td>7</td>\n",
       "      <td>7</td>\n",
       "      <td>7</td>\n",
       "      <td>9</td>\n",
       "      <td>7</td>\n",
       "      <td>12</td>\n",
       "      <td>...</td>\n",
       "      <td>8</td>\n",
       "      <td>14</td>\n",
       "      <td>14</td>\n",
       "      <td>13</td>\n",
       "      <td>9</td>\n",
       "      <td>10</td>\n",
       "      <td>14</td>\n",
       "      <td>7</td>\n",
       "      <td>14</td>\n",
       "      <td>7</td>\n",
       "    </tr>\n",
       "    <tr>\n",
       "      <th>3129596</th>\n",
       "      <td>13</td>\n",
       "      <td>9</td>\n",
       "      <td>8</td>\n",
       "      <td>10</td>\n",
       "      <td>8</td>\n",
       "      <td>8</td>\n",
       "      <td>7</td>\n",
       "      <td>8</td>\n",
       "      <td>7</td>\n",
       "      <td>13</td>\n",
       "      <td>...</td>\n",
       "      <td>14</td>\n",
       "      <td>14</td>\n",
       "      <td>7</td>\n",
       "      <td>13</td>\n",
       "      <td>10</td>\n",
       "      <td>10</td>\n",
       "      <td>14</td>\n",
       "      <td>7</td>\n",
       "      <td>14</td>\n",
       "      <td>13</td>\n",
       "    </tr>\n",
       "    <tr>\n",
       "      <th>3129597</th>\n",
       "      <td>13</td>\n",
       "      <td>10</td>\n",
       "      <td>8</td>\n",
       "      <td>10</td>\n",
       "      <td>8</td>\n",
       "      <td>8</td>\n",
       "      <td>7</td>\n",
       "      <td>9</td>\n",
       "      <td>10</td>\n",
       "      <td>13</td>\n",
       "      <td>...</td>\n",
       "      <td>13</td>\n",
       "      <td>14</td>\n",
       "      <td>14</td>\n",
       "      <td>14</td>\n",
       "      <td>14</td>\n",
       "      <td>10</td>\n",
       "      <td>14</td>\n",
       "      <td>10</td>\n",
       "      <td>10</td>\n",
       "      <td>13</td>\n",
       "    </tr>\n",
       "    <tr>\n",
       "      <th>3129598</th>\n",
       "      <td>14</td>\n",
       "      <td>10</td>\n",
       "      <td>8</td>\n",
       "      <td>10</td>\n",
       "      <td>8</td>\n",
       "      <td>8</td>\n",
       "      <td>7</td>\n",
       "      <td>10</td>\n",
       "      <td>9</td>\n",
       "      <td>14</td>\n",
       "      <td>...</td>\n",
       "      <td>10</td>\n",
       "      <td>14</td>\n",
       "      <td>14</td>\n",
       "      <td>11</td>\n",
       "      <td>8</td>\n",
       "      <td>10</td>\n",
       "      <td>14</td>\n",
       "      <td>12</td>\n",
       "      <td>10</td>\n",
       "      <td>7</td>\n",
       "    </tr>\n",
       "    <tr>\n",
       "      <th>3129599</th>\n",
       "      <td>13</td>\n",
       "      <td>10</td>\n",
       "      <td>8</td>\n",
       "      <td>10</td>\n",
       "      <td>8</td>\n",
       "      <td>8</td>\n",
       "      <td>8</td>\n",
       "      <td>9</td>\n",
       "      <td>9</td>\n",
       "      <td>13</td>\n",
       "      <td>...</td>\n",
       "      <td>13</td>\n",
       "      <td>14</td>\n",
       "      <td>14</td>\n",
       "      <td>13</td>\n",
       "      <td>10</td>\n",
       "      <td>10</td>\n",
       "      <td>14</td>\n",
       "      <td>10</td>\n",
       "      <td>10</td>\n",
       "      <td>8</td>\n",
       "    </tr>\n",
       "    <tr>\n",
       "      <th>3129600</th>\n",
       "      <td>13</td>\n",
       "      <td>10</td>\n",
       "      <td>8</td>\n",
       "      <td>10</td>\n",
       "      <td>8</td>\n",
       "      <td>8</td>\n",
       "      <td>7</td>\n",
       "      <td>9</td>\n",
       "      <td>9</td>\n",
       "      <td>13</td>\n",
       "      <td>...</td>\n",
       "      <td>10</td>\n",
       "      <td>13</td>\n",
       "      <td>14</td>\n",
       "      <td>13</td>\n",
       "      <td>9</td>\n",
       "      <td>10</td>\n",
       "      <td>14</td>\n",
       "      <td>10</td>\n",
       "      <td>8</td>\n",
       "      <td>7</td>\n",
       "    </tr>\n",
       "    <tr>\n",
       "      <th>3129601</th>\n",
       "      <td>13</td>\n",
       "      <td>9</td>\n",
       "      <td>8</td>\n",
       "      <td>10</td>\n",
       "      <td>8</td>\n",
       "      <td>8</td>\n",
       "      <td>7</td>\n",
       "      <td>7</td>\n",
       "      <td>7</td>\n",
       "      <td>13</td>\n",
       "      <td>...</td>\n",
       "      <td>13</td>\n",
       "      <td>14</td>\n",
       "      <td>7</td>\n",
       "      <td>14</td>\n",
       "      <td>9</td>\n",
       "      <td>10</td>\n",
       "      <td>14</td>\n",
       "      <td>7</td>\n",
       "      <td>10</td>\n",
       "      <td>9</td>\n",
       "    </tr>\n",
       "    <tr>\n",
       "      <th>3129602</th>\n",
       "      <td>9</td>\n",
       "      <td>8</td>\n",
       "      <td>12</td>\n",
       "      <td>8</td>\n",
       "      <td>13</td>\n",
       "      <td>13</td>\n",
       "      <td>12</td>\n",
       "      <td>14</td>\n",
       "      <td>8</td>\n",
       "      <td>8</td>\n",
       "      <td>...</td>\n",
       "      <td>14</td>\n",
       "      <td>14</td>\n",
       "      <td>8</td>\n",
       "      <td>12</td>\n",
       "      <td>14</td>\n",
       "      <td>10</td>\n",
       "      <td>14</td>\n",
       "      <td>7</td>\n",
       "      <td>10</td>\n",
       "      <td>8</td>\n",
       "    </tr>\n",
       "    <tr>\n",
       "      <th>3129603</th>\n",
       "      <td>13</td>\n",
       "      <td>9</td>\n",
       "      <td>8</td>\n",
       "      <td>10</td>\n",
       "      <td>8</td>\n",
       "      <td>8</td>\n",
       "      <td>7</td>\n",
       "      <td>8</td>\n",
       "      <td>7</td>\n",
       "      <td>13</td>\n",
       "      <td>...</td>\n",
       "      <td>7</td>\n",
       "      <td>9</td>\n",
       "      <td>7</td>\n",
       "      <td>13</td>\n",
       "      <td>9</td>\n",
       "      <td>10</td>\n",
       "      <td>14</td>\n",
       "      <td>7</td>\n",
       "      <td>8</td>\n",
       "      <td>7</td>\n",
       "    </tr>\n",
       "    <tr>\n",
       "      <th>3129604</th>\n",
       "      <td>13</td>\n",
       "      <td>9</td>\n",
       "      <td>8</td>\n",
       "      <td>10</td>\n",
       "      <td>8</td>\n",
       "      <td>8</td>\n",
       "      <td>7</td>\n",
       "      <td>7</td>\n",
       "      <td>7</td>\n",
       "      <td>13</td>\n",
       "      <td>...</td>\n",
       "      <td>13</td>\n",
       "      <td>14</td>\n",
       "      <td>7</td>\n",
       "      <td>11</td>\n",
       "      <td>14</td>\n",
       "      <td>10</td>\n",
       "      <td>8</td>\n",
       "      <td>7</td>\n",
       "      <td>10</td>\n",
       "      <td>7</td>\n",
       "    </tr>\n",
       "    <tr>\n",
       "      <th>3129605</th>\n",
       "      <td>7</td>\n",
       "      <td>7</td>\n",
       "      <td>11</td>\n",
       "      <td>7</td>\n",
       "      <td>12</td>\n",
       "      <td>12</td>\n",
       "      <td>11</td>\n",
       "      <td>12</td>\n",
       "      <td>7</td>\n",
       "      <td>7</td>\n",
       "      <td>...</td>\n",
       "      <td>14</td>\n",
       "      <td>14</td>\n",
       "      <td>8</td>\n",
       "      <td>11</td>\n",
       "      <td>8</td>\n",
       "      <td>10</td>\n",
       "      <td>14</td>\n",
       "      <td>7</td>\n",
       "      <td>14</td>\n",
       "      <td>8</td>\n",
       "    </tr>\n",
       "    <tr>\n",
       "      <th>3129606</th>\n",
       "      <td>10</td>\n",
       "      <td>7</td>\n",
       "      <td>8</td>\n",
       "      <td>7</td>\n",
       "      <td>8</td>\n",
       "      <td>8</td>\n",
       "      <td>7</td>\n",
       "      <td>9</td>\n",
       "      <td>10</td>\n",
       "      <td>10</td>\n",
       "      <td>...</td>\n",
       "      <td>13</td>\n",
       "      <td>14</td>\n",
       "      <td>14</td>\n",
       "      <td>11</td>\n",
       "      <td>7</td>\n",
       "      <td>10</td>\n",
       "      <td>14</td>\n",
       "      <td>10</td>\n",
       "      <td>10</td>\n",
       "      <td>9</td>\n",
       "    </tr>\n",
       "    <tr>\n",
       "      <th>3129607</th>\n",
       "      <td>12</td>\n",
       "      <td>9</td>\n",
       "      <td>7</td>\n",
       "      <td>9</td>\n",
       "      <td>7</td>\n",
       "      <td>7</td>\n",
       "      <td>7</td>\n",
       "      <td>7</td>\n",
       "      <td>7</td>\n",
       "      <td>12</td>\n",
       "      <td>...</td>\n",
       "      <td>13</td>\n",
       "      <td>14</td>\n",
       "      <td>7</td>\n",
       "      <td>13</td>\n",
       "      <td>10</td>\n",
       "      <td>10</td>\n",
       "      <td>8</td>\n",
       "      <td>7</td>\n",
       "      <td>10</td>\n",
       "      <td>13</td>\n",
       "    </tr>\n",
       "    <tr>\n",
       "      <th>3129608</th>\n",
       "      <td>9</td>\n",
       "      <td>7</td>\n",
       "      <td>8</td>\n",
       "      <td>7</td>\n",
       "      <td>8</td>\n",
       "      <td>8</td>\n",
       "      <td>7</td>\n",
       "      <td>7</td>\n",
       "      <td>7</td>\n",
       "      <td>7</td>\n",
       "      <td>...</td>\n",
       "      <td>7</td>\n",
       "      <td>14</td>\n",
       "      <td>7</td>\n",
       "      <td>11</td>\n",
       "      <td>7</td>\n",
       "      <td>10</td>\n",
       "      <td>14</td>\n",
       "      <td>7</td>\n",
       "      <td>14</td>\n",
       "      <td>13</td>\n",
       "    </tr>\n",
       "    <tr>\n",
       "      <th>3129609</th>\n",
       "      <td>12</td>\n",
       "      <td>9</td>\n",
       "      <td>7</td>\n",
       "      <td>9</td>\n",
       "      <td>7</td>\n",
       "      <td>7</td>\n",
       "      <td>7</td>\n",
       "      <td>7</td>\n",
       "      <td>7</td>\n",
       "      <td>12</td>\n",
       "      <td>...</td>\n",
       "      <td>8</td>\n",
       "      <td>10</td>\n",
       "      <td>7</td>\n",
       "      <td>13</td>\n",
       "      <td>10</td>\n",
       "      <td>10</td>\n",
       "      <td>14</td>\n",
       "      <td>7</td>\n",
       "      <td>7</td>\n",
       "      <td>8</td>\n",
       "    </tr>\n",
       "    <tr>\n",
       "      <th>3129610</th>\n",
       "      <td>10</td>\n",
       "      <td>7</td>\n",
       "      <td>11</td>\n",
       "      <td>7</td>\n",
       "      <td>12</td>\n",
       "      <td>12</td>\n",
       "      <td>11</td>\n",
       "      <td>11</td>\n",
       "      <td>7</td>\n",
       "      <td>7</td>\n",
       "      <td>...</td>\n",
       "      <td>14</td>\n",
       "      <td>14</td>\n",
       "      <td>8</td>\n",
       "      <td>11</td>\n",
       "      <td>8</td>\n",
       "      <td>10</td>\n",
       "      <td>8</td>\n",
       "      <td>7</td>\n",
       "      <td>14</td>\n",
       "      <td>13</td>\n",
       "    </tr>\n",
       "  </tbody>\n",
       "</table>\n",
       "<p>3129611 rows × 100 columns</p>\n",
       "</div>"
      ],
      "text/plain": [
       "         0   1   2   3   4   5   6   7   8   9  ...  90  91  92  93  94  95  \\\n",
       "0        13  10   8  10   8   8   7   9  10  13 ...  13  14  14  13   9  10   \n",
       "1        13  10   8  10   8   8   8   8   9  13 ...  14  13   7  12   8  10   \n",
       "2        12   9   7   9   7   7   7   7   7  12 ...  13  13   7  13  10  10   \n",
       "3        13  10   8  10   8   8   7   9   9  13 ...  13  14  14  14   9  10   \n",
       "4        13  10   8  10   8   8   7   7  10  13 ...  13  14   7  14  10  10   \n",
       "5        12  13   7  13   7   9   9   7  11  12 ...  13  14   7  13  14  10   \n",
       "6        14  10   8  10   8   8   8   9   9  14 ...   8   9   7   8   9  10   \n",
       "7        13  10   8  10   8   8   7   7   9  13 ...  13  14   7  14  10  10   \n",
       "8        14  10   8  10   8   8   7   9   9  14 ...   7  14  14  13   9  11   \n",
       "9         9   8   8   8   8   8   7   7   7   7 ...  13  14   7  11   8   9   \n",
       "10       12  13   7  13   7   9   9   7  11  12 ...  13  14   7  14  14  14   \n",
       "11       13  14   8  14   8  10  10   9  11  13 ...  13  14  13  11  14  10   \n",
       "12        7   8   7   8   7   7   8   7   8   8 ...  13  14   7  12  14  10   \n",
       "13       12   9   7   9   7   7   8   9   8  12 ...  13  14   7  14  14  10   \n",
       "14       14  10   8  10   8   8   7   7   9  14 ...   7   8   7  13   9   9   \n",
       "15       13  10   8  10   8   8   7   7   9  13 ...   7   9   9  13   9  10   \n",
       "16       14   9   8  10   8   8   7   9   7  14 ...   7  12  14  13  10  10   \n",
       "17       10   7   8   7   8   8   7  10   9  10 ...  10   9  14  11   8  10   \n",
       "18       12   9   7   9   7   7   8   7   8  12 ...  13  14   7  12  14  10   \n",
       "19        7   7   7   7   7   7   7   9   7   7 ...   8   9   7  11   7  10   \n",
       "20       12   9   7   9   7   7   7  10   7  12 ...  14  14   7  13  14  10   \n",
       "21        9   7   8   7   8   8   7   9   9   9 ...   7  10   9  11   8  10   \n",
       "22       13  10   8  10   8   8   7  10   9  13 ...  14  14  14  14   9  10   \n",
       "23       14  10   8  10   8   8   7   9  10  14 ...  13  14   7  14   9  14   \n",
       "24       13  14   8  14   8  10   9   7  12  13 ...  13  14   7  14  14  10   \n",
       "25       13   9   8  10   8   8   7   7   7  13 ...  13  13   7  13  10  10   \n",
       "26       13   9   8  10   8   8   7   7   7  13 ...  13  14   7  13  10   9   \n",
       "27       14  10   8  10   8   8   7   9   9  14 ...   7  12  14  13   9  10   \n",
       "28       14  10   8  10   8   8   7   9  10  14 ...  13  14   7  14   9  10   \n",
       "29       14  10   8  10   8   8   7   9   9  14 ...   7  14  14  13   9  10   \n",
       "...      ..  ..  ..  ..  ..  ..  ..  ..  ..  .. ...  ..  ..  ..  ..  ..  ..   \n",
       "3129581  13   9   8  10   8   8   7   8   7  13 ...  14  14   7  14  14  10   \n",
       "3129582  13  10   8  10   8   8   7  10  10  13 ...  14  14  10  14  10  10   \n",
       "3129583   9   7  12   7  12  12  12  13   7   7 ...  14  14  13  11   7  10   \n",
       "3129584   9  11   8  11   8  10   9   7  11   7 ...  13  14   7  11  14  10   \n",
       "3129585  14   9   8  10   8   8   7   9   7  14 ...  13  14  10  13   9  10   \n",
       "3129586   9   8   8   8   8   8   8   7  10   9 ...  13  14   7  12   8  10   \n",
       "3129587  13   9   8  10   8   8   8   7   8  13 ...  13  14   7  13  10  10   \n",
       "3129588  10   7   8   7   8   8   8   9   9  10 ...  13  14  14  12   8  10   \n",
       "3129589  12   9   7   9   7   7   7   9   7  12 ...   7   9   7  10   9   7   \n",
       "3129590   9  11   8  11   8  10  10   9  12   9 ...  13  14  14  11  14  10   \n",
       "3129591  13   9   8  10   8   8   7   9   7  13 ...  13  14  10  11   8  10   \n",
       "3129592  13  10   8  10   8   8   7   7  10  13 ...  13  14   7  13  10  10   \n",
       "3129593   9  11   8  11   8  10  10   9  12   9 ...  13  14  14  11  13  10   \n",
       "3129594  10   7   8   7   8   8   7   9   7   7 ...  13  13  14  11   8  10   \n",
       "3129595  12   9   7   9   7   7   7   9   7  12 ...   8  14  14  13   9  10   \n",
       "3129596  13   9   8  10   8   8   7   8   7  13 ...  14  14   7  13  10  10   \n",
       "3129597  13  10   8  10   8   8   7   9  10  13 ...  13  14  14  14  14  10   \n",
       "3129598  14  10   8  10   8   8   7  10   9  14 ...  10  14  14  11   8  10   \n",
       "3129599  13  10   8  10   8   8   8   9   9  13 ...  13  14  14  13  10  10   \n",
       "3129600  13  10   8  10   8   8   7   9   9  13 ...  10  13  14  13   9  10   \n",
       "3129601  13   9   8  10   8   8   7   7   7  13 ...  13  14   7  14   9  10   \n",
       "3129602   9   8  12   8  13  13  12  14   8   8 ...  14  14   8  12  14  10   \n",
       "3129603  13   9   8  10   8   8   7   8   7  13 ...   7   9   7  13   9  10   \n",
       "3129604  13   9   8  10   8   8   7   7   7  13 ...  13  14   7  11  14  10   \n",
       "3129605   7   7  11   7  12  12  11  12   7   7 ...  14  14   8  11   8  10   \n",
       "3129606  10   7   8   7   8   8   7   9  10  10 ...  13  14  14  11   7  10   \n",
       "3129607  12   9   7   9   7   7   7   7   7  12 ...  13  14   7  13  10  10   \n",
       "3129608   9   7   8   7   8   8   7   7   7   7 ...   7  14   7  11   7  10   \n",
       "3129609  12   9   7   9   7   7   7   7   7  12 ...   8  10   7  13  10  10   \n",
       "3129610  10   7  11   7  12  12  11  11   7   7 ...  14  14   8  11   8  10   \n",
       "\n",
       "         96  97  98  99  \n",
       "0         8  10  10   7  \n",
       "1        14   8  10  13  \n",
       "2        11   7   9  11  \n",
       "3        14  11  10   7  \n",
       "4         8   8   9  11  \n",
       "5        14   7  10  13  \n",
       "6        14   8   7   7  \n",
       "7         7   8  14  11  \n",
       "8        14  14   7   7  \n",
       "9         8   7  14  13  \n",
       "10       14   7  14  13  \n",
       "11       12   9  10  12  \n",
       "12       14   7  10   7  \n",
       "13       14   7  14   9  \n",
       "14       14   8   8   7  \n",
       "15       12   9   7   7  \n",
       "16       14  14  14   8  \n",
       "17        8  14   8   7  \n",
       "18       14   7  10   7  \n",
       "19       13   7  14   7  \n",
       "20        8   7  14   7  \n",
       "21        7   9   8  11  \n",
       "22        8  11  10   7  \n",
       "23        8   8  14   7  \n",
       "24        8   7  10   9  \n",
       "25       12   7  14  12  \n",
       "26       12   7  14  11  \n",
       "27       14  14   8   7  \n",
       "28       14   8  14   7  \n",
       "29       14   8  14   7  \n",
       "...      ..  ..  ..  ..  \n",
       "3129581  14   7  14   7  \n",
       "3129582  12   9  13  11  \n",
       "3129583   8   9   9   7  \n",
       "3129584  14   7  14   7  \n",
       "3129585  14  10  10   7  \n",
       "3129586  14   8  10  13  \n",
       "3129587  14   7  10  13  \n",
       "3129588  14  14  14   7  \n",
       "3129589  13   7   8   7  \n",
       "3129590  10  10  10  13  \n",
       "3129591  14  10  10   9  \n",
       "3129592   8   8  10  13  \n",
       "3129593   8  10  13   9  \n",
       "3129594  14  14  10   7  \n",
       "3129595  14   7  14   7  \n",
       "3129596  14   7  14  13  \n",
       "3129597  14  10  10  13  \n",
       "3129598  14  12  10   7  \n",
       "3129599  14  10  10   8  \n",
       "3129600  14  10   8   7  \n",
       "3129601  14   7  10   9  \n",
       "3129602  14   7  10   8  \n",
       "3129603  14   7   8   7  \n",
       "3129604   8   7  10   7  \n",
       "3129605  14   7  14   8  \n",
       "3129606  14  10  10   9  \n",
       "3129607   8   7  10  13  \n",
       "3129608  14   7  14  13  \n",
       "3129609  14   7   7   8  \n",
       "3129610   8   7  14  13  \n",
       "\n",
       "[3129611 rows x 100 columns]"
      ]
     },
     "execution_count": 19,
     "metadata": {},
     "output_type": "execute_result"
    }
   ],
   "source": [
    "test_new_feature2"
   ]
  },
  {
   "cell_type": "code",
   "execution_count": 8,
   "metadata": {},
   "outputs": [
    {
     "name": "stdout",
     "output_type": "stream",
     "text": [
      "Wall time: 1min 1s\n"
     ]
    }
   ],
   "source": [
    "%%time\n",
    "train = base_process(\"../data/raw_data/round2_ijcai_18_train_b_20180510.txt\")\n",
    "test = base_process(\"../data/raw_data/round2_ijcai_18_test_b_20180510.txt\")"
   ]
  },
  {
   "cell_type": "code",
   "execution_count": 9,
   "metadata": {},
   "outputs": [
    {
     "data": {
      "text/plain": [
       "(1209768, 28)"
      ]
     },
     "execution_count": 9,
     "metadata": {},
     "output_type": "execute_result"
    }
   ],
   "source": [
    "train.shape\n",
    "test.shape"
   ]
  },
  {
   "cell_type": "code",
   "execution_count": 13,
   "metadata": {},
   "outputs": [
    {
     "name": "stdout",
     "output_type": "stream",
     "text": [
      "Wall time: 16min 39s\n"
     ]
    }
   ],
   "source": [
    "%%time\n",
    "train_x = train.drop([\"is_trade\"],axis=1)\n",
    "df = train_x.append(test,ignore_index=True)  #合并训练集与测试集"
   ]
  },
  {
   "cell_type": "code",
   "execution_count": 14,
   "metadata": {},
   "outputs": [],
   "source": [
    "adClick = df.groupby([\"user_id\"])[\"context_timestamp\"].count() #统计每位用户总点击量"
   ]
  },
  {
   "cell_type": "code",
   "execution_count": 15,
   "metadata": {},
   "outputs": [],
   "source": [
    "dayClick = df.pivot_table(index=\"user_id\",columns=\"day\",values=\"context_timestamp\",aggfunc=\"count\") #统计每位用户在每一天的点击量"
   ]
  },
  {
   "cell_type": "code",
   "execution_count": 16,
   "metadata": {},
   "outputs": [],
   "source": [
    "dayClick = dayClick.fillna(0)  #填充0\n",
    "dayClick_currence = dayClick.iloc[:,-1] #最近一次点击量"
   ]
  },
  {
   "cell_type": "code",
   "execution_count": 17,
   "metadata": {},
   "outputs": [],
   "source": [
    "dayClick_mean = dayClick.mean(axis=1) #日均点击量\n",
    "dayClick_max = dayClick.max(axis=1) #日最大点击量\n",
    "dayClick_min = dayClick.min(axis=1) #日最小点击量\n",
    "dayClick_median = dayClick.median(axis=1)#日中位数点击量"
   ]
  },
  {
   "cell_type": "code",
   "execution_count": 18,
   "metadata": {},
   "outputs": [
    {
     "name": "stdout",
     "output_type": "stream",
     "text": [
      "Wall time: 2h 28min 12s\n"
     ]
    }
   ],
   "source": [
    "%%time\n",
    "df = df.sort_values(by=\"context_timestamp\") #按照时间排序"
   ]
  },
  {
   "cell_type": "code",
   "execution_count": 19,
   "metadata": {},
   "outputs": [],
   "source": [
    "df[\"lastClick\"] = df.groupby([\"user_id\"])[[\"context_timestamp\"]].shift(1) #距离点击上一次的时间距离\n",
    "df[\"clickDist\"] = (df[\"context_timestamp\"] - df[\"lastClick\"])\n",
    "df.iloc[:,-1] = df.iloc[:,-1].map(lambda x:x.total_seconds())"
   ]
  },
  {
   "cell_type": "code",
   "execution_count": 20,
   "metadata": {},
   "outputs": [
    {
     "name": "stdout",
     "output_type": "stream",
     "text": [
      "Wall time: 1min 24s\n"
     ]
    }
   ],
   "source": [
    "%%time\n",
    "dist_max = df.groupby(\"user_id\")[[\"clickDist\"]].max() #点击时间间隔\n",
    "dist_min = df.groupby(\"user_id\")[[\"clickDist\"]].min()"
   ]
  },
  {
   "cell_type": "code",
   "execution_count": 22,
   "metadata": {},
   "outputs": [
    {
     "name": "stdout",
     "output_type": "stream",
     "text": [
      "Wall time: 7.71 s\n"
     ]
    }
   ],
   "source": [
    "%%time\n",
    "dist_mean = df.groupby(\"user_id\")[[\"clickDist\"]].mean()\n",
    "dist_median = df.groupby(\"user_id\")[[\"clickDist\"]].median()"
   ]
  },
  {
   "cell_type": "code",
   "execution_count": 23,
   "metadata": {},
   "outputs": [
    {
     "name": "stdout",
     "output_type": "stream",
     "text": [
      "Wall time: 3.29 s\n"
     ]
    }
   ],
   "source": [
    "%%time\n",
    "dist_std = df.groupby(\"user_id\")[\"clickDist\"].agg(np.std)\n",
    "dist_std = dist_std.reset_index()\n",
    "dist_std.columns = [\"user_id\",\"std\"]\n",
    "dist_std = dist_std.set_index(\"user_id\")"
   ]
  },
  {
   "cell_type": "code",
   "execution_count": 24,
   "metadata": {},
   "outputs": [],
   "source": [
    "var_ls = [adClick,dayClick_currence,dayClick_mean,dayClick_max,dayClick_min,dayClick_median,dist_max,dist_max,dist_mean,dist_median,dist_std]\n",
    "var_name_ls = [\"adClick\",\"dayClick_currence\",\n",
    "                \"dayClick_mean\",\"dayClick_max\",\"dayClick_min\",\"dayClick_median\",\n",
    "                \"dist_max\",\"dist_min\",\"dist_mean\",\"dist_median\",\"dist_std\"]\n",
    "clickData = df[[\"user_id\"]].drop_duplicates() #对用户ID去重"
   ]
  },
  {
   "cell_type": "code",
   "execution_count": 25,
   "metadata": {},
   "outputs": [
    {
     "name": "stdout",
     "output_type": "stream",
     "text": [
      "保存在....  ../data/temp_data/_2_get_click_stats.pickle\n"
     ]
    }
   ],
   "source": [
    "for var,name in zip(var_ls,var_name_ls):\n",
    "    var = var.reset_index()\n",
    "    var.columns = [\"user_id\",name]\n",
    "    clickData = pd.merge(clickData,var,how=\"left\",left_on=\"user_id\",right_on=\"user_id\")\n",
    "\n",
    "clickData = clickData.fillna(0) #填充0\n",
    "clickData_path = \"../data/temp_data/_2_get_click_stats.pickle\"\n",
    "clickData.to_pickle(clickData_path)\n",
    "print(\"保存在.... \",clickData_path)"
   ]
  },
  {
   "cell_type": "code",
   "execution_count": 26,
   "metadata": {},
   "outputs": [
    {
     "name": "stdout",
     "output_type": "stream",
     "text": [
      "Wall time: 28.5 s\n"
     ]
    }
   ],
   "source": [
    "%%time\n",
    "temp = df[[\"user_id\",\"context_timestamp\"]].drop_duplicates()\n",
    "earlist = temp.groupby(\"user_id\")['context_timestamp'].min().reset_index()  #最早日期\n",
    "latest = temp.groupby(\"user_id\")['context_timestamp'].max().reset_index()    #最迟日期\n",
    "earlist = earlist.rename(columns={\"context_timestamp\":\"earlist_date\"})  #重命名\n",
    "latest = latest.rename(columns={\"context_timestamp\":\"latest_date\"})#重命名\n",
    "temp = pd.merge(temp,earlist,how=\"left\") \n",
    "temp = pd.merge(temp,latest,how=\"left\")\n",
    "temp[\"first_2_last_dist\"] = (temp[\"latest_date\"] - temp[\"earlist_date\"]) #计算第一次和最后一次点击差"
   ]
  },
  {
   "cell_type": "code",
   "execution_count": 27,
   "metadata": {},
   "outputs": [],
   "source": [
    "#计算当前点击时间与第一次点击时间、最后一次点击时间的时间差\n",
    "temp[\"first_2_last_dist\"] = temp[\"first_2_last_dist\"].map(lambda x:x.total_seconds())\n",
    "temp[\"now_2_first_dist\"] = (temp[\"context_timestamp\"] - temp[\"earlist_date\"])\n",
    "temp[\"now_2_first_dist\"] = temp[\"now_2_first_dist\"].map(lambda x:x.total_seconds()) \n",
    "temp[\"now_2_last_dist\"] = (temp[\"latest_date\"] - temp[\"context_timestamp\"])\n",
    "temp[\"now_2_last_dist\"] = temp[\"now_2_last_dist\"].map(lambda x:x.total_seconds()) "
   ]
  },
  {
   "cell_type": "code",
   "execution_count": 28,
   "metadata": {},
   "outputs": [
    {
     "name": "stdout",
     "output_type": "stream",
     "text": [
      "Wall time: 10.2 s\n"
     ]
    }
   ],
   "source": [
    "%%time\n",
    "temp = temp.fillna(0)\n",
    "temp = temp[[\"user_id\",\"context_timestamp\",\"first_2_last_dist\",\"now_2_first_dist\",\"now_2_last_dist\"]]\n",
    "path = \"../data/temp_data/_2_first_time_to_last_margin.pickle\"\n",
    "temp.to_pickle(path)"
   ]
  },
  {
   "cell_type": "code",
   "execution_count": 29,
   "metadata": {},
   "outputs": [],
   "source": [
    "def get_last_2(x):\n",
    "    try:\n",
    "        a = x.iloc[-2]\n",
    "    except:\n",
    "        a = np.nan\n",
    "    return a\n",
    "\n",
    "def get_last_3(x):\n",
    "    try:\n",
    "        a = x.iloc[-3]\n",
    "    except:\n",
    "        a = np.nan\n",
    "    return a\n",
    "\n",
    "def get_last_4(x):\n",
    "    try:\n",
    "        a = x.iloc[-4]\n",
    "    except:\n",
    "        a = np.nan\n",
    "    return a\n",
    "\n",
    "temp = df[[\"user_id\",\"context_timestamp\"]].drop_duplicates() \n",
    "#temp = temp.sort_values(by=[\"context_timestamp\"])\n",
    "lastClick_time = temp.groupby([\"user_id\"])[\"context_timestamp\"].max() #最后一次点击\n",
    "last2Click_time = temp.groupby([\"user_id\"])[\"context_timestamp\"].agg(get_last_2) #倒数第二次点击\n",
    "last3Click_time = temp.groupby([\"user_id\"])[\"context_timestamp\"].agg(get_last_3) #倒数第三次点击\n",
    "\n",
    "var_name_ls = [\"lastClick_time\",\"last2Click_time\",\"last3Click_time\"]\n",
    "var_ls = [lastClick_time,last2Click_time,last3Click_time]"
   ]
  },
  {
   "cell_type": "code",
   "execution_count": 30,
   "metadata": {},
   "outputs": [
    {
     "name": "stdout",
     "output_type": "stream",
     "text": [
      "保存在...  ../data/temp_data/_2_last_1_2_dist.pickle\n"
     ]
    }
   ],
   "source": [
    "#合并\n",
    "for var,name in zip(var_ls,var_name_ls):\n",
    "    var = var.reset_index()\n",
    "    var.columns = [\"user_id\",name]\n",
    "    temp = pd.merge(temp,var,how=\"left\")\n",
    "\n",
    "        #最后一次与倒数第二次\n",
    "temp[\"last_click_1_2_dist\"] = temp[\"lastClick_time\"] - temp[\"last2Click_time\"]\n",
    "temp[\"last_click_1_2_dist\"] = temp[\"last_click_1_2_dist\"].map(lambda x:x.total_seconds())\n",
    "\n",
    "        #倒数第二次与倒数第三次\n",
    "temp[\"last_click_2_3_dist\"] = temp[\"last2Click_time\"] - temp[\"last3Click_time\"]\n",
    "temp[\"last_click_2_3_dist\"] = temp[\"last_click_2_3_dist\"].map(lambda x:x.total_seconds())\n",
    "\n",
    "        #最后一次与倒数第3次\n",
    "temp[\"last_click_1_3_dist\"] = temp[\"lastClick_time\"] - temp[\"last3Click_time\"]\n",
    "temp[\"last_click_1_3_dist\"] = temp[\"last_click_1_3_dist\"].map(lambda x:x.total_seconds())\n",
    "\n",
    "temp = temp.drop([\"context_timestamp\",\"lastClick_time\",\"last2Click_time\",\"last3Click_time\"],axis=1)\n",
    "temp = temp.fillna(0)\n",
    "\n",
    "path = \"../data/temp_data/_2_last_1_2_dist.pickle\"\n",
    "print(\"保存在... \",path)\n",
    "temp.to_pickle(path)"
   ]
  },
  {
   "cell_type": "code",
   "execution_count": 31,
   "metadata": {},
   "outputs": [
    {
     "name": "stdout",
     "output_type": "stream",
     "text": [
      "保存在 ../data/temp_data/_2_history_stats.pickle\n",
      "Wall time: 3h 24min 1s\n"
     ]
    }
   ],
   "source": [
    "%%time\n",
    "history_fea = df[[\"user_id\"]].drop_duplicates() #获取关联匹配的id    #历史统计点击次数\n",
    "for i in range(7,9): \n",
    "    temp = df[df[\"day\"]<i] \n",
    "    stats = temp.groupby(\"user_id\",as_index=False)[\"context_timestamp\"].count() #点击次数\n",
    "    stats.columns = [\"user_id\",\"click_cnt\"]\n",
    "    new_columns = [col if col==\"user_id\" else '{0}_{1}'.format(i,col) for col in stats.columns]\n",
    "    stats.columns = new_columns#关联\n",
    "    history_fea = pd.merge(history_fea,stats,how=\"left\",left_on=\"user_id\",right_on=\"user_id\")\n",
    "history_fea  = history_fea.drop_duplicates().fillna(0) #填充为0\n",
    "path = \"../data/temp_data/_2_history_stats.pickle\"\n",
    "history_fea.to_pickle(path) #保存\n",
    "print(\"保存在\",path)"
   ]
  },
  {
   "cell_type": "code",
   "execution_count": null,
   "metadata": {},
   "outputs": [],
   "source": [
    "#########内存溢出#############\n",
    "ads_feature = ['item_id','item_category_list','item_property_list'\n",
    "                   ,'item_brand_id','item_city_id',\"category_0\",\"category_1\",\"category_2\"]\n",
    "context_feature = ['shop_id','context_page_id'] #上下文\n",
    "stats_feature = ads_feature+context_feature\n",
    "    \n",
    "#统计每一个用户每一天点击每一个feature的次数\n",
    "for feature in stats_feature:\n",
    "    temp_path = \"../data/temp_data/_2_user_day_click_{0}\".format(feature)\n",
    "    user_feature_click_day = df.groupby(['user_id','day',feature]).size().reset_index().rename(columns={0:'user_'+feature+'_click_day'})\n",
    "    user_feature_click_day.to_pickle(temp_path)\n",
    "    print(\"保存在{0}\".format(temp_path))"
   ]
  },
  {
   "cell_type": "code",
   "execution_count": 32,
   "metadata": {},
   "outputs": [
    {
     "name": "stdout",
     "output_type": "stream",
     "text": [
      "保存...  ../data/temp_data/_3_ID_global_sum_cnt_item_id.pickle\n",
      "保存...  ../data/temp_data/_3_ID_global_sum_cnt_item_category_list.pickle\n",
      "保存...  ../data/temp_data/_3_ID_global_sum_cnt_item_property_list.pickle\n",
      "保存...  ../data/temp_data/_3_ID_global_sum_cnt_item_brand_id.pickle\n",
      "保存...  ../data/temp_data/_3_ID_global_sum_cnt_item_city_id.pickle\n",
      "保存...  ../data/temp_data/_3_ID_global_sum_cnt_user_id.pickle\n",
      "保存...  ../data/temp_data/_3_ID_global_sum_cnt_user_gender_id.pickle\n",
      "保存...  ../data/temp_data/_3_ID_global_sum_cnt_user_occupation_id.pickle\n",
      "保存...  ../data/temp_data/_3_ID_global_sum_cnt_shop_id.pickle\n",
      "Wall time: 2h 26min 6s\n",
      "Compiler : 114 ms\n"
     ]
    }
   ],
   "source": [
    "%%time\n",
    "last_day=8\n",
    "Id_feature =[\"item_id\",\"item_category_list\",\"item_property_list\",\"item_brand_id\"\n",
    "            ,\"item_city_id\",\"user_id\",\"user_gender_id\"\n",
    "            ,\"user_occupation_id\",\"shop_id\"]\n",
    "    \n",
    "df = df[df[\"day\"]<=8]\n",
    "for i in Id_feature:\n",
    "    path = \"../data/temp_data/_3_ID_global_sum_cnt_{0}.pickle\".format(i)\n",
    "    feature_count_sum = pd.DataFrame(df.groupby(i).size()).reset_index().rename(columns={0:i+'_sum_count'})\n",
    "    feature_count_sum.to_pickle(path)\n",
    "    del feature_count_sum\n",
    "    gc.collect()\n",
    "    print(\"保存... \",path)"
   ]
  },
  {
   "cell_type": "code",
   "execution_count": 4,
   "metadata": {},
   "outputs": [],
   "source": [
    "from smooth import HyperParam #平滑函数\n",
    "import copy"
   ]
  },
  {
   "cell_type": "code",
   "execution_count": 2,
   "metadata": {},
   "outputs": [],
   "source": [
    "df = copy.deepcopy(train) #copy train"
   ]
  },
  {
   "cell_type": "code",
   "execution_count": 5,
   "metadata": {},
   "outputs": [
    {
     "name": "stderr",
     "output_type": "stream",
     "text": [
      "\n",
      "KeyboardInterrupt\n",
      "\n"
     ]
    }
   ],
   "source": [
    "#统计每一个feature每天的转化次数、曝光次数\n",
    "for feat_1 in ['item_id','item_category_list','item_property_list','item_brand_id','item_city_id'\n",
    "              ,\"user_id\",\"shop_id\",\"context_id\"]:\n",
    "    res = pd.DataFrame()\n",
    "    Id = train[[feat_1]].drop_duplicates() # feature,用来关联点击总次数、转化次数\n",
    "    for day in range(1,8):\n",
    "        maskTemp = df[df[\"day\"]<=day] #选取当天之前的所有天数\n",
    "        click_cnt = maskTemp.groupby(feat_1,as_index=False)[\"is_trade\"].count()\n",
    "        click_cnt = click_cnt.rename(columns={\"is_trade\":\"{0}_click_cnt\".format(feat_1)}) #统计feat1总点击数\n",
    "        temp = pd.merge(Id,click_cnt,how=\"left\")\n",
    "                \n",
    "        #转化记录\n",
    "        click_trade_cnt = maskTemp.groupby(feat_1,as_index=False)[\"is_trade\"].sum()\n",
    "        click_trade_cnt = click_trade_cnt.rename(columns={\"is_trade\":\"{0}_trade_cnt\".format(feat_1)}) \n",
    "        temp = pd.merge(temp,click_trade_cnt,how=\"left\")\n",
    "        temp = temp.fillna(0)\n",
    "        temp[\"day\"] = day\n",
    "                \n",
    "        #合并\n",
    "        res = pd.concat([res,temp],ignore_index=True,axis=0) \n",
    "    res.to_pickle(\"../data/temp_data/_4_{0}_trade_cnt.pickle\".format(feat_1))\n",
    "    print(\"保存到 ../data/temp_data/_4_{0}_trade_cnt.pickle\".format(feat_1))"
   ]
  },
  {
   "cell_type": "code",
   "execution_count": 6,
   "metadata": {},
   "outputs": [
    {
     "data": {
      "text/plain": [
       "77"
      ]
     },
     "execution_count": 6,
     "metadata": {},
     "output_type": "execute_result"
    }
   ],
   "source": [
    "del df\n",
    "del Id\n",
    "del res\n",
    "gc.collect()"
   ]
  },
  {
   "cell_type": "code",
   "execution_count": null,
   "metadata": {},
   "outputs": [],
   "source": [
    "for feat_1,feat_2 in[(\"item_id\",\"user_id\"),(\"item_id\",\"user_gender_id\"),(\"user_id\",\"item_brand_id\"),(\"user_id\",\"shop_id\")\n",
    "                     (\"item_id\",\"context_id\"),(\"user_id\",\"item_property_list\"),(\"user_id\",\"item_city_id\")]:\n",
    "    res = pd.DataFrame()\n",
    "    Id = train[[feat_1,feat_2]].drop_duplicates() # feature,用来关联点击总次数、转化次数\n",
    "    for day in range(1,8):\n",
    "        maskTemp = df[df[\"day\"]<=day] #选取当天之前的所有天数\n",
    "        click_cnt = maskTemp.groupby([feat_1,feat_2],as_index=False)[\"is_trade\"].count()\n",
    "        click_cnt = click_cnt.rename(columns={\"is_trade\":\"{0}_{1}_click_cnt\".format(feat_1,feat_2)}) #统计feat1总点击数\n",
    "        temp = pd.merge(Id,click_cnt,how=\"left\",left_on=[feat_1,feat_2],right_on=[feat_1,feat_2])\n",
    "                \n",
    "        #转化记录\n",
    "        click_trade_cnt = maskTemp.groupby([feat_1,feat_2],as_index=False)[\"is_trade\"].sum()\n",
    "        click_trade_cnt = click_trade_cnt.rename(columns={\"is_trade\":\"{0}_{1}_trade_cnt\".format(feat_1,feat_2)}) \n",
    "        temp = pd.merge(temp,click_trade_cnt,how=\"left\",left_on=[feat_1,feat_2],right_on=[feat_1,feat_2])\n",
    "        temp = temp.fillna(0)\n",
    "        temp[\"day\"] = day\n",
    "                \n",
    "                #合并\n",
    "        res = pd.concat([res,temp],ignore_index=True,axis=0) \n",
    "    res.to_pickle(\"../data/temp_data/_4_{0}_and_{1}_trade_cnt.pickle\".format(feat_1,feat_2))\n",
    "    print(\"保存到 ../data/temp_data/_4_{0}_and_{1}_trade_cnt.pickle\".format(feat_1,feat_2))\n",
    "\n",
    "for feat_1,feat_2,feat_3 in [(\"item_id\",\"user_id\",\"shop_id\"),(\"item_id\",\"user_id\",\"context_id\")]:\n",
    "    res = pd.DataFrame()\n",
    "    Id = train[[feat_1,feat_2,feat_3]].drop_duplicates() # feature,用来关联点击总次数、转化次数\n",
    "    for day in range(18,26):\n",
    "        maskTemp = df[df[\"day\"]<day] #选取当天之前的所有天数\n",
    "        click_cnt = maskTemp.groupby([feat_1,feat_2,feat_3],as_index=False)[\"is_trade\"].count()\n",
    "        click_cnt = click_cnt.rename(columns={\"is_trade\":\"{0}_{1}_{2}_click_cnt\".format(feat_1,feat_2,feat_3)}) #统计feat1总点击数\n",
    "        temp = pd.merge(Id,click_cnt,how=\"left\",left_on=[feat_1,feat_2,feat_3],right_on=[feat_1,feat_2,feat_3])\n",
    "                \n",
    "        #转化记录\n",
    "        click_trade_cnt = maskTemp.groupby([feat_1,feat_2,feat_3],as_index=False)[\"is_trade\"].sum()\n",
    "        click_trade_cnt = click_trade_cnt.rename(columns={\"is_trade\":\"{0}_{1}_{2}_trade_cnt\".format(feat_1,feat_2,feat_3)}) \n",
    "        temp = pd.merge(temp,click_trade_cnt,how=\"left\",left_on=[feat_1,feat_2,feat_3],right_on=[feat_1,feat_2,feat_3])\n",
    "        temp = temp.fillna(0)\n",
    "        temp[\"day\"] = day\n",
    "                \n",
    "         #合并\n",
    "        res = pd.concat([res,temp],ignore_index=True,axis=0) \n",
    "    res.to_pickle(\"../data/temp_data/_4_{0}_{1}_and_{2}_trade_cnt.pickle\".format(feat_1,feat_2,feat_3))\n",
    "    print(\"保存到 ../data/temp_data/_4_{0}_{1}_and_{2}_trade_cnt.pickle\".format(feat_1,feat_2,feat_3))"
   ]
  },
  {
   "cell_type": "code",
   "execution_count": null,
   "metadata": {},
   "outputs": [],
   "source": [
    "#对点击率相关特征进行贝叶斯平滑，修正实际CTR\n",
    "smooth_cvr_log = {}\n",
    "for feat_1 in ['item_id','item_category_list','item_property_list','item_brand_id','item_city_id'\n",
    "              ,\"user_id\",\"shop_id\",\"context_id\"]:\n",
    "    savePath = \"../data/smooth_cvr/_4_smooth_cvr_{0}_{1}_{2}.pickle\".format(feature,6,8)\n",
    "    readPath = \"../data/temp_data/_4_{0}_trade_cnt.pickle\".format(feature) \n",
    "    temp = pd.read_pickle(readPath) #读取需要处理的表\n",
    "    temp = temp[(temp[\"day\"]>=6)&(temp[\"day\"]<=8)]\n",
    "    print(temp.shape)\n",
    "    HP = HyperParam(1, 1) \n",
    "    #HP.update_from_data_by_moment(temp[feature + '_click_cnt'].values, temp[feature + '_trade_cnt'].values)\n",
    "    HP.update_from_data_by_FPI(temp[feature + '_click_cnt'].values, temp[feature + '_trade_cnt'].values,1000,0.001)\n",
    "    temp[feature + '_smooth'] = (temp[feature + '_trade_cnt'] + HP.alpha) / (temp[feature + '_click_cnt'] + HP.alpha + HP.beta)\n",
    "    temp.to_pickle(savePath)\n",
    "    smooth_cvr_log[feature + '_smooth'] = HP.alpha/(HP.alpha+HP.beta)\n",
    "    print(\"***************************\")\n",
    "    print(\"{0}对应的alpha为{1}，beta为{2}\".format(feature,HP.alpha,HP.beta))\n",
    "    print(\"****************************\")\n",
    "    print(\"保存{0}\".format(savePath))\n",
    "    del temp\n",
    "    gc.collect()\n",
    "    \n",
    "for feat_1,feat_2 in[(\"item_id\",\"user_id\"),(\"item_id\",\"user_gender_id\"),(\"user_id\",\"item_brand_id\"),(\"user_id\",\"shop_id\")\n",
    "                     (\"item_id\",\"context_id\"),(\"user_id\",\"item_property_list\"),(\"user_id\",\"item_city_id\")]:\n",
    "    savePath = \"../data/smooth_cvr/_4_smooth_cvr_{0}_and_{1}_{2}_{3}.pickle\".format(feat_1,feat_2,6,8)\n",
    "    readPath = \"../data/temp_data/_4_{0}_and_{1}_trade_cnt.pickle\".format(feat_1,feat_2) \n",
    "    temp = pd.read_pickle(readPath) #读取需要处理的表\n",
    "    temp = temp[(temp[\"day\"]>=6)&(temp[\"day\"]<=8)]\n",
    "    print(temp.shape)\n",
    "    print(\"平滑特征{0}and{1}\".format(feat_1,feat_2))\n",
    "    HP = HyperParam(1, 1)\n",
    "    #HP.update_from_data_by_moment(temp[feat_1+\"_\"+feat_2 + '_click_cnt'].values, temp[feat_1+\"_\"+feat_2 + '_trade_cnt'].values)\n",
    "    HP.update_from_data_by_FPI(temp[feat_1+\"_\"+feat_2 + '_click_cnt'].values, temp[feat_1+\"_\"+feat_2 + '_trade_cnt'].values,1000,0.001)\n",
    "    temp[feat_1+\"_\"+feat_2 + '_smooth'] = (temp[feat_1+\"_\"+feat_2 + '_trade_cnt'] + HP.alpha) / (temp[feat_1+\"_\"+feat_2 + '_click_cnt'] + HP.alpha + HP.beta)\n",
    "    smooth_cvr_log[feat_1+\"_\"+feat_2 + '_smooth'] = HP.alpha/(HP.alpha + HP.beta) #记录每一特征的初始值\n",
    "    temp.to_pickle(savePath)\n",
    "    del temp\n",
    "    gc.collect()\n",
    "    print(\"***************************\")\n",
    "    print(\"{0}和{1}组合特征对应的alpha为{2}，beta为{3}\".format(feat_1,feat_2,HP.alpha,HP.beta))\n",
    "    print(\"****************************\")\n",
    "    print(\"保存{0}\".format(savePath))\n",
    "    \n",
    "for feat_1,feat_2,feat_3 in [(\"item_id\",\"user_id\",\"shop_id\"),(\"item_id\",\"user_id\",\"context_id\")]:\n",
    "    savePath = \"../data/smooth_cvr/_4_smooth_cvr_{0}_{1}_and_{2}_{3}_{4}.pickle\".format(feat_1,feat_2,feat_3,6,8)\n",
    "    readPath = \"../data/temp_data/_4_{0}_{1}_and_{2}_trade_cnt.pickle\".format(feat_1,feat_2,feat_3)\n",
    "    temp = pd.read_pickle(readPath)\n",
    "    temp = temp[(temp[\"day\"]>=6)&(temp[\"day\"]<=8)]\n",
    "    print(temp.shape)\n",
    "    print(\"平滑特征{0}and{1}and{2}\".format(feat_1,feat_2,feat_3))\n",
    "    HP = HyperParam(1, 1) \n",
    "    #HP.update_from_data_by_moment(temp[feat_1+\"_\"+feat_2 +\"_\"+feat_3+ '_click_cnt'].values, temp[feat_1+\"_\"+feat_2 +\"_\"+feat_3+ '_trade_cnt'].values)\n",
    "    HP.update_from_data_by_FPI(temp[feat_1+\"_\"+feat_2 +\"_\"+feat_3+ '_click_cnt'].values, temp[feat_1+\"_\"+feat_2 +\"_\"+feat_3+ '_trade_cnt'].values,1000,0.001)\n",
    "    temp[feat_1+\"_\"+feat_2 +\"_\"+feat_3+'_smooth'] = (temp[feat_1+\"_\"+feat_2+\"_\"+feat_3+ '_trade_cnt'] + HP.alpha) / (temp[feat_1+\"_\"+feat_2 +\"_\"+feat_3+ '_click_cnt'] + HP.alpha + HP.beta)\n",
    "    smooth_cvr_log[feat_1+\"_\"+feat_2 +\"_\"+feat_3+ '_smooth'] = HP.alpha/(HP.alpha + HP.beta) #记录每一特征的初始值\n",
    "    temp.to_pickle(savePath)\n",
    "    del temp  \n",
    "    gc.collect()\n",
    "    print(\"***************************\")\n",
    "    print(\"{0}和{1}和{2}组合特征对应的alpha为{3}，beta为{4}\".format(feat_1,feat_2,feat_3,HP.alpha,HP.beta))\n",
    "    print(\"****************************\")\n",
    "    print(\"保存{0}\".format(savePath))\n",
    "    \n",
    "print(\"保存每个特征的经验初始值，用于之后的填充空值\")\n",
    "with open(\"../data/smooth_cvr/_4_smooth_cvr_log.pickle\",\"wb\") as f1:\n",
    "    pickle.dump(smooth_cvr_log,f1)"
   ]
  },
  {
   "cell_type": "code",
   "execution_count": 3,
   "metadata": {},
   "outputs": [],
   "source": [
    "#使用train最后两天的数据\n",
    "train_set = train[(train[\"day\"]>=7)&(train[\"day\"]<=8)] \n",
    "train_set.shape"
   ]
  },
  {
   "cell_type": "code",
   "execution_count": 10,
   "metadata": {},
   "outputs": [],
   "source": [
    "test_set = test"
   ]
  },
  {
   "cell_type": "code",
   "execution_count": 12,
   "metadata": {},
   "outputs": [],
   "source": [
    "#合并基本点击数统计\n",
    "click_stats = pd.read_pickle(\"../data/temp_data/_2_get_click_stats.pickle\") #基本点击数"
   ]
  },
  {
   "cell_type": "code",
   "execution_count": 13,
   "metadata": {},
   "outputs": [
    {
     "data": {
      "text/plain": [
       "(3282505, 12)"
      ]
     },
     "execution_count": 13,
     "metadata": {},
     "output_type": "execute_result"
    }
   ],
   "source": [
    "click_stats.shape"
   ]
  },
  {
   "cell_type": "code",
   "execution_count": 14,
   "metadata": {},
   "outputs": [],
   "source": [
    "train_set = pd.merge(train_set,click_stats,how=\"left\",left_on=\"user_id\",right_on=\"user_id\")"
   ]
  },
  {
   "cell_type": "code",
   "execution_count": 15,
   "metadata": {},
   "outputs": [
    {
     "data": {
      "text/plain": [
       "(3011618, 40)"
      ]
     },
     "execution_count": 15,
     "metadata": {},
     "output_type": "execute_result"
    }
   ],
   "source": [
    "train_set.shape"
   ]
  },
  {
   "cell_type": "code",
   "execution_count": 16,
   "metadata": {},
   "outputs": [
    {
     "data": {
      "text/plain": [
       "491"
      ]
     },
     "execution_count": 16,
     "metadata": {},
     "output_type": "execute_result"
    }
   ],
   "source": [
    "test_set = pd.merge(test_set,click_stats,how=\"left\",left_on=\"user_id\",right_on=\"user_id\")\n",
    "del click_stats\n",
    "gc.collect()"
   ]
  },
  {
   "cell_type": "code",
   "execution_count": 17,
   "metadata": {},
   "outputs": [],
   "source": [
    "#合并点击时间间隔表\n",
    "time_dist = pd.read_pickle(\"../data/temp_data/_2_first_time_to_last_margin.pickle\")"
   ]
  },
  {
   "cell_type": "code",
   "execution_count": 18,
   "metadata": {},
   "outputs": [],
   "source": [
    "time_dist = time_dist.drop_duplicates([\"user_id\",\"first_2_last_dist\"],keep=\"last\")"
   ]
  },
  {
   "cell_type": "code",
   "execution_count": 19,
   "metadata": {},
   "outputs": [
    {
     "data": {
      "text/plain": [
       "(3282505, 5)"
      ]
     },
     "execution_count": 19,
     "metadata": {},
     "output_type": "execute_result"
    }
   ],
   "source": [
    "time_dist.shape"
   ]
  },
  {
   "cell_type": "code",
   "execution_count": 20,
   "metadata": {},
   "outputs": [],
   "source": [
    "train_set = pd.merge(train_set,time_dist[[\"user_id\",\"first_2_last_dist\"]],how=\"left\",left_on=[\"user_id\"],right_on=[\"user_id\"])"
   ]
  },
  {
   "cell_type": "code",
   "execution_count": 21,
   "metadata": {},
   "outputs": [],
   "source": [
    "test_set = pd.merge(test_set,time_dist[[\"user_id\",\"first_2_last_dist\"]],how=\"left\",left_on=[\"user_id\"],right_on=[\"user_id\"]) \n",
    "train_set = train_set.drop_duplicates()\n",
    "test_set = test_set.drop_duplicates()"
   ]
  },
  {
   "cell_type": "code",
   "execution_count": 22,
   "metadata": {},
   "outputs": [
    {
     "data": {
      "text/plain": [
       "(1209768, 40)"
      ]
     },
     "execution_count": 22,
     "metadata": {},
     "output_type": "execute_result"
    }
   ],
   "source": [
    "test_set.shape"
   ]
  },
  {
   "cell_type": "code",
   "execution_count": 23,
   "metadata": {},
   "outputs": [
    {
     "data": {
      "text/plain": [
       "68"
      ]
     },
     "execution_count": 23,
     "metadata": {},
     "output_type": "execute_result"
    }
   ],
   "source": [
    "#合并当前点击行为到第一次和最后一次点击的行为间隔\n",
    "cols = [\"user_id\",\"context_timestamp\",\"now_2_first_dist\",\"now_2_last_dist\"]\n",
    "train_set = pd.merge(train_set,time_dist[cols],how=\"left\",on=[\"user_id\",\"context_timestamp\"])\n",
    "test_set = pd.merge(test_set,time_dist[cols],how=\"left\",on=[\"user_id\",\"context_timestamp\"]) \n",
    "train_set = train_set.drop_duplicates()\n",
    "test_set = test_set.drop_duplicates()\n",
    "del time_dist\n",
    "gc.collect()"
   ]
  },
  {
   "cell_type": "code",
   "execution_count": 24,
   "metadata": {},
   "outputs": [],
   "source": [
    "#合并倒数第一次点击和倒数第二次点击行为的间隔\n",
    "last_1_2_dist =  pd.read_pickle(\"../data/temp_data/_2_last_1_2_dist.pickle\")"
   ]
  },
  {
   "cell_type": "code",
   "execution_count": 25,
   "metadata": {},
   "outputs": [],
   "source": [
    "last_1_2_dist = last_1_2_dist.drop_duplicates([\"user_id\",\"last_click_1_2_dist\",\"last_click_1_3_dist\",\"last_click_2_3_dist\"],keep=\"last\")"
   ]
  },
  {
   "cell_type": "code",
   "execution_count": 26,
   "metadata": {},
   "outputs": [
    {
     "data": {
      "text/plain": [
       "(3282505, 4)"
      ]
     },
     "execution_count": 26,
     "metadata": {},
     "output_type": "execute_result"
    }
   ],
   "source": [
    "last_1_2_dist.shape"
   ]
  },
  {
   "cell_type": "code",
   "execution_count": 27,
   "metadata": {},
   "outputs": [
    {
     "data": {
      "text/plain": [
       "35"
      ]
     },
     "execution_count": 27,
     "metadata": {},
     "output_type": "execute_result"
    }
   ],
   "source": [
    "train_set = pd.merge(train_set,last_1_2_dist,how=\"left\",on=[\"user_id\"])\n",
    "test_set = pd.merge(test_set,last_1_2_dist,how=\"left\",on=[\"user_id\"]) \n",
    "train_set = train_set.drop_duplicates()\n",
    "test_set = test_set.drop_duplicates()\n",
    "del last_1_2_dist\n",
    "gc.collect()"
   ]
  },
  {
   "cell_type": "code",
   "execution_count": 28,
   "metadata": {},
   "outputs": [],
   "source": [
    "#合并滑动窗口的间隔\n",
    "history_stats =  pd.read_pickle(\"../data/temp_data/_2_history_stats.pickle\")"
   ]
  },
  {
   "cell_type": "code",
   "execution_count": 29,
   "metadata": {},
   "outputs": [
    {
     "data": {
      "text/plain": [
       "(3282505, 3)"
      ]
     },
     "execution_count": 29,
     "metadata": {},
     "output_type": "execute_result"
    }
   ],
   "source": [
    "history_stats.shape"
   ]
  },
  {
   "cell_type": "code",
   "execution_count": 30,
   "metadata": {},
   "outputs": [
    {
     "data": {
      "text/plain": [
       "35"
      ]
     },
     "execution_count": 30,
     "metadata": {},
     "output_type": "execute_result"
    }
   ],
   "source": [
    "train_set = pd.merge(train_set,history_stats,how=\"left\",on=[\"user_id\"])\n",
    "test_set = pd.merge(test_set,history_stats,how=\"left\",on=[\"user_id\"]) \n",
    "train_set = train_set.drop_duplicates()\n",
    "test_set = test_set.drop_duplicates()\n",
    "del history_stats\n",
    "gc.collect()"
   ]
  },
  {
   "cell_type": "code",
   "execution_count": 31,
   "metadata": {},
   "outputs": [
    {
     "name": "stdout",
     "output_type": "stream",
     "text": [
      "save the train and test files !!!\n"
     ]
    }
   ],
   "source": [
    "save_path_train = \"../data/merge_data/_5_merge_data_train_basic_click.pickle\"\n",
    "save_path_test = \"../data/merge_data/_5_merge_data_test_basic_click.pickle\"\n",
    "print(\"save the train and test files !!!\")\n",
    "train_set = train_set.fillna(0)\n",
    "test_set = test_set.fillna(0)"
   ]
  },
  {
   "cell_type": "code",
   "execution_count": 32,
   "metadata": {},
   "outputs": [
    {
     "name": "stdout",
     "output_type": "stream",
     "text": [
      "Wall time: 1min 29s\n"
     ]
    }
   ],
   "source": [
    "%%time\n",
    "train_set.to_pickle(save_path_train)"
   ]
  },
  {
   "cell_type": "code",
   "execution_count": 33,
   "metadata": {},
   "outputs": [
    {
     "name": "stdout",
     "output_type": "stream",
     "text": [
      "save the files on ../data/merge_data/_5_merge_data_train_basic_click.pickle\n",
      "save the files on ../data/merge_data/_5_merge_data_test_basic_click.pickle\n"
     ]
    }
   ],
   "source": [
    "test_set.to_pickle(save_path_test)\n",
    "print(\"save the files on {0}\".format(save_path_train))\n",
    "print(\"save the files on {0}\".format(save_path_test))    "
   ]
  },
  {
   "cell_type": "code",
   "execution_count": 34,
   "metadata": {},
   "outputs": [],
   "source": [
    "feature_ls = [\"item_id\",\"item_category_list\",\"item_property_list\",\"item_brand_id\"\n",
    "            ,\"item_city_id\",\"user_id\",\"user_gender_id\"\n",
    "            ,\"user_occupation_id\",\"shop_id\"]"
   ]
  },
  {
   "cell_type": "code",
   "execution_count": 35,
   "metadata": {},
   "outputs": [],
   "source": [
    "cols = [\"instance_id\"]\n",
    "cols = feature_ls + cols\n",
    "train_g = train[cols][train[\"day\"]>=7]\n",
    "test_g = test[cols]"
   ]
  },
  {
   "cell_type": "code",
   "execution_count": 36,
   "metadata": {},
   "outputs": [
    {
     "data": {
      "text/plain": [
       "(3011618, 10)"
      ]
     },
     "execution_count": 36,
     "metadata": {},
     "output_type": "execute_result"
    }
   ],
   "source": [
    "train_g.shape"
   ]
  },
  {
   "cell_type": "code",
   "execution_count": 37,
   "metadata": {},
   "outputs": [],
   "source": [
    "for i in feature_ls:\n",
    "    path = \"../data/temp_data/_3_ID_global_sum_cnt_{0}.pickle\".format(i)\n",
    "    temp = pd.read_pickle(path)\n",
    "    train_g = pd.merge(train_g,temp,how=\"left\",on = [i]).drop_duplicates()\n",
    "    test_g = pd.merge(test_g,temp,how=\"left\",on = [i]).drop_duplicates()\n",
    "    del temp\n",
    "    gc.collect() "
   ]
  },
  {
   "cell_type": "code",
   "execution_count": 38,
   "metadata": {},
   "outputs": [
    {
     "data": {
      "text/plain": [
       "(1209768, 19)"
      ]
     },
     "execution_count": 38,
     "metadata": {},
     "output_type": "execute_result"
    }
   ],
   "source": [
    "test_g.shape"
   ]
  },
  {
   "cell_type": "code",
   "execution_count": 39,
   "metadata": {},
   "outputs": [
    {
     "name": "stdout",
     "output_type": "stream",
     "text": [
      "保存在train！！\n",
      "保存在test！！\n"
     ]
    },
    {
     "data": {
      "text/plain": [
       "14"
      ]
     },
     "execution_count": 39,
     "metadata": {},
     "output_type": "execute_result"
    }
   ],
   "source": [
    "train_g = train_g.drop(feature_ls,axis=1)\n",
    "test_g = test_g.drop(feature_ls,axis=1)\n",
    "        \n",
    "train_g.to_pickle(\"../data/merge_data/_5_merge_data_train_ID_global_sum.pickle\") #保存\n",
    "test_g.to_pickle(\"../data/merge_data/_5_merge_data_test_ID_global_sum.pickle\") #保存\n",
    "print(\"保存在{0}！！\".format(\"train\"))\n",
    "print(\"保存在{0}！！\".format(\"test\"))\n",
    "del train_g\n",
    "del test_g\n",
    "gc.collect()"
   ]
  },
  {
   "cell_type": "code",
   "execution_count": 40,
   "metadata": {},
   "outputs": [
    {
     "data": {
      "text/plain": [
       "(3011618, 48)"
      ]
     },
     "execution_count": 40,
     "metadata": {},
     "output_type": "execute_result"
    }
   ],
   "source": [
    "train_set.shape"
   ]
  },
  {
   "cell_type": "code",
   "execution_count": 90,
   "metadata": {},
   "outputs": [],
   "source": [
    "#########对连续变量进行OneHot############(可以不做)\n",
    "cols_1 = [\"item_price_level\",\"item_sales_level\",\"item_collected_level\",\n",
    "           \"user_star_level\",\"item_pv_level\",\"user_gender_id\",\"user_age_level\",\n",
    "           \"user_occupation_id\",\"shop_review_num_level\",\"shop_star_level\",]\n",
    "cols_2 = [\"shop_review_positive_rate\",\"shop_score_service\",\"shop_score_delivery\",\n",
    "              \"shop_score_description\"]\n",
    "id_col = [\"instance_id\"]\n",
    "cols = id_col + cols_1 + cols_2 \n",
    "    \n",
    "    #-------合并train和test并且打上标签------------\n",
    "train_set= train_set[cols]\n",
    "test_set = test_set[cols]\n",
    "train_set[\"is_train\"] = 1\n",
    "test_set[\"is_train\"] = 0\n",
    "data = pd.concat([train_set,test_set],axis=0,ignore_index = True)\n",
    "#one-hot encoding\n",
    "data = pd.get_dummies(data,columns=cols_1)\n",
    "train_set = data[data[\"is_train\"]==1]\n",
    "test_set = data[data[\"is_train\"]==0]\n",
    "train_set.to_pickle(\"../data/merge_data/_5_merge_data_train_originated.pickle\") #保存到文件\n",
    "test_set.to_pickle(\"../data/merge_data/_5_merge_data_test_originated.pickle\")  #保存到文件\n",
    "print(\"保存在train\")\n",
    "print(\"保存在test\")"
   ]
  },
  {
   "cell_type": "code",
   "execution_count": null,
   "metadata": {},
   "outputs": [],
   "source": [
    "print(\"保存每个特征的经验初始值，用于之后的填充空值\")\n",
    "with open(\"../data/smooth_cvr/_4_smooth_cvr_log.pickle\",\"wb\") as f1:\n",
    "    pickle.dump(smooth_cvr_log,f1)"
   ]
  },
  {
   "cell_type": "code",
   "execution_count": null,
   "metadata": {},
   "outputs": [],
   "source": [
    "#读取每一个特征对应的转换率经验初始值（alpha / (alpha + beta)）\n",
    "smooth_cvr_log = pd.read_pickle(\"../data/smooth_cvr/_4_smooth_cvr_log.pickle\")\n",
    "save_path_train = \"../data/merge_data/_5_merge_data_train_smooth_cvr_{0}_{1}.pickle\".format(6,8)\n",
    "save_path_test = \"../data/merge_data/_5_merge_data_test_smooth_cvr_{0}_{1}.pickle\".format(6,8)"
   ]
  },
  {
   "cell_type": "code",
   "execution_count": null,
   "metadata": {},
   "outputs": [],
   "source": [
    "train_s = train[(train[\"day\"]>=6)&(train[\"day\"]<=8)] #\n",
    "test_s = test[(test[\"day\"]>=6)&(test[\"day\"]<=8)]\n",
    "feature_1 = ['item_id','item_category_list','item_property_list','item_brand_id'\n",
    "              ,\"item_city_id\",\"user_id\",\"shop_id\"]\n",
    "feature2 = [\"item_id\",\"user_id\",\"user_gender_id\",\"item_brand_id\",\"shop_id\"\n",
    "            \"context_id\",\"item_property_list\",\"item_city_id\"]\n",
    "feature_3 = [\"day\"]\n",
    "combine_feature = [(\"item_id\",\"user_id\"),(\"item_id\",\"user_gender_id\"),(\"user_id\",\"item_brand_id\"),(\"user_id\",\"shop_id\")\n",
    "                     (\"item_id\",\"context_id\"),(\"user_id\",\"item_property_list\"),(\"user_id\",\"item_city_id\")]\n",
    "three_feature = [(\"item_id\",\"user_id\",\"shop_id\"),(\"item_id\",\"user_id\",\"context_id\")]\n",
    "cols = [\"instance_id\"]\n",
    "cols = list(set(cols + feature_1 + feature_2 + feature_3 + context + shop))\n",
    "train_s = train_s[cols].drop_duplicates()\n",
    "test_s = test_s[cols].drop_duplicates()"
   ]
  },
  {
   "cell_type": "code",
   "execution_count": null,
   "metadata": {},
   "outputs": [],
   "source": [
    "for i in feature_1:\n",
    "        #合并每一个特征\n",
    "    savePath = \"../data/smooth_cvr/_4_smooth_cvr_{0}_{1}_{2}.pickle\".format(i,timeWindow[0],timeWindow[1])\n",
    "    temp = pd.read_pickle(savePath).drop_duplicates()\n",
    "    temp_tr = pd.merge(train[[\"instance_id\",i,\"day\"]],temp,how=\"left\",on=[i,\"day\"]).drop_duplicates()\n",
    "    temp_ts = pd.merge(test[[\"instance_id\",i,\"day\"]],temp,how=\"left\",on=[i,\"day\"]).drop_duplicates()\n",
    "    temp_tr = temp_tr[[\"instance_id\",i + '_smooth']]\n",
    "    temp_ts = temp_ts[[\"instance_id\",i + '_smooth']]\n",
    "            \n",
    "            #填充空值\n",
    "    temp_tr = temp_tr.fillna(smooth_cvr_log[i + '_smooth'])\n",
    "    temp_ts = temp_ts.fillna(smooth_cvr_log[i + '_smooth'])\n",
    "            #保存\n",
    "    temp_tr.to_pickle(\"../data/merge_data/_5_smooth_cvr_train_{0}_merge_0.pickle\".format(i))\n",
    "    temp_ts.to_pickle(\"../data/merge_data/_5_smooth_cvr_test_{0}_merge_0.pickle\".format(i))\n",
    "    print(\"保存在 ../data/merge_data/_5_smooth_cvr_train_{0}_merge_0.pickle\".format(i))\n",
    "    print(\"保存在 ../data/merge_data/_5_smooth_cvr_test_{0}_merge_0.pickle\".format(i))\n",
    "    del temp\n",
    "    gc.collect()\n",
    "            \n",
    "        #组合双特征组合的转化率\n",
    "for feat_1,feat_2 in combine_feature:\n",
    "    savePath = \"../data/smooth_cvr/_4_smooth_cvr_{0}_and_{1}_{2}_{3}.pickle\".format(feat_1,feat_2,timeWindow[0],timeWindow[1])\n",
    "    temp = pd.read_pickle(savePath)\n",
    "    temp_tr = pd.merge(train[[\"instance_id\",\"day\",feat_1,feat_2]],temp,on=[\"day\",feat_1,feat_2],how=\"left\")\n",
    "    temp_ts = pd.merge(test[[\"instance_id\",\"day\",feat_1,feat_2]],temp,on=[\"day\",feat_1,feat_2],how=\"left\")\n",
    "    temp_tr = temp_tr[[\"instance_id\",feat_1+\"_\"+feat_2 + '_smooth']]\n",
    "    temp_ts = temp_ts[[\"instance_id\",feat_1+\"_\"+feat_2 + '_smooth']]\n",
    "            \n",
    "            #------填充空值-------------------\n",
    "    temp_tr = temp_tr.fillna(smooth_cvr_log[feat_1+\"_\"+feat_2 + '_smooth'])\n",
    "    temp_ts = temp_ts.fillna(smooth_cvr_log[feat_1+\"_\"+feat_2 + '_smooth'])\n",
    "            #----------保存----------\n",
    "    temp_tr.to_pickle(\"../data/merge_data/_5_smooth_cvr_train_{0}_and_{1}_merge_0.pickle\".format(feat_1,feat_2))\n",
    "    temp_ts.to_pickle(\"../data/merge_data/_5_smooth_cvr_test_{0}_and_{1}_merge_0.pickle\".format(feat_1,feat_2))\n",
    "    print(\"保存在 ../data/merge_data/_5_smooth_cvr_train_{0}_and_{1}_merge_0.pickle\".format(feat_1,feat_2))\n",
    "    print(\"保存在 ../data/merge_data/_5_smooth_cvr_test_{0}_and_{1}_merge_0.pickle\".format(feat_1,feat_2))\n",
    "    del temp\n",
    "    gc.collect()\n",
    "            \n",
    "for feat_1,feat_2,feat_3 in three_feature:\n",
    "    savePath = \"../data/smooth_cvr/_4_smooth_cvr_{0}_{1}_and_{2}_{3}_{4}.pickle\".format(feat_1,feat_2,feat_3,timeWindow[0],timeWindow[1])\n",
    "    temp = pd.read_pickle(savePath)\n",
    "    temp_tr = pd.merge(train[[\"instance_id\",\"day\",feat_1,feat_2,feat_3]],temp,on=[\"day\",feat_1,feat_2,feat_3],how=\"left\")\n",
    "    temp_ts = pd.merge(test[[\"instance_id\",\"day\",feat_1,feat_2,feat_3]],temp,on=[\"day\",feat_1,feat_2,feat_3],how=\"left\")\n",
    "    temp_tr = temp_tr[[\"instance_id\",feat_1+\"_\"+feat_2 +\"_\"+feat_3+'_smooth']]\n",
    "    temp_ts = temp_ts[[\"instance_id\",feat_1+\"_\"+feat_2 +\"_\"+feat_3+'_smooth']]\n",
    "            \n",
    "            #------填充空值-------------------\n",
    "    temp_tr = temp_tr.fillna(smooth_cvr_log[feat_1+\"_\"+feat_2 +\"_\"+feat_3+'_smooth'])\n",
    "    temp_ts = temp_ts.fillna(smooth_cvr_log[feat_1+\"_\"+feat_2 +\"_\"+feat_3+'_smooth'])\n",
    "            #----------保存----------\n",
    "    temp_tr.to_pickle(\"../data/merge_data/_5_smooth_cvr_train_{0}_{1}_and_{2}_merge_0.pickle\".format(feat_1,feat_2,feat_3))\n",
    "    temp_ts.to_pickle(\"../data/merge_data/_5_smooth_cvr_test_{0}_{1}_and_{2}_merge_0.pickle\".format(feat_1,feat_2,feat_3))\n",
    "    print(\"保存在 ../data/merge_data/_5_smooth_cvr_train_{0}_{1}_and_{2}_merge_0.pickle\".format(feat_1,feat_2,feat_3))\n",
    "    print(\"保存在 ../data/merge_data/_5_smooth_cvr_test_{0}_{1}_and_{2}_merge_0.pickle\".format(feat_1,feat_2,feat_3))\n",
    "    del temp\n",
    "    gc.collect()"
   ]
  },
  {
   "cell_type": "code",
   "execution_count": null,
   "metadata": {},
   "outputs": [],
   "source": [
    "#通过中间文件，根据instance_id将有所有的中间表连接起来\n",
    "smooth_cvr_tr = train_s[[\"instance_id\"]]\n",
    "smooth_cvr_ts = test_s[[\"instance_id\"]]"
   ]
  },
  {
   "cell_type": "code",
   "execution_count": null,
   "metadata": {},
   "outputs": [],
   "source": [
    "for i in feature_1:\n",
    "    temp_tr = pd.read_pickle(\"../data/merge_data/_5_smooth_cvr_train_{0}_merge_0.pickle\".format(i))\n",
    "    temp_ts = pd.read_pickle(\"../data/merge_data/_5_smooth_cvr_test_{0}_merge_0.pickle\".format(i))\n",
    "    smooth_cvr_tr = pd.merge(smooth_cvr_tr,temp_tr,on=[\"instance_id\"],how=\"left\")\n",
    "    smooth_cvr_ts = pd.merge(smooth_cvr_ts,temp_ts,on=[\"instance_id\"],how=\"left\")\n",
    "        \n",
    "#合并多特征的转化率\n",
    "for feat_1,feat_2 in combine_feature:\n",
    "    temp_tr = pd.read_pickle(\"../data/merge_data/_5_smooth_cvr_train_{0}_and_{1}_merge_0.pickle\".format(feat_1,feat_2))\n",
    "    temp_ts = pd.read_pickle(\"../data/merge_data/_5_smooth_cvr_test_{0}_and_{1}_merge_0.pickle\".format(feat_1,feat_2))\n",
    "    smooth_cvr_tr = pd.merge(smooth_cvr_tr,temp_tr,on=[\"instance_id\"],how=\"left\")\n",
    "    smooth_cvr_ts = pd.merge(smooth_cvr_ts,temp_ts,on=[\"instance_id\"],how=\"left\")\n",
    "            \n",
    "for feat_1,feat_2,feat_3 in three_feature:\n",
    "    temp_tr = pd.read_pickle(\"../data/merge_data/_5_smooth_cvr_train_{0}_{1}_and_{2}_merge_0.pickle\".format(feat_1,feat_2,feat_3))\n",
    "    temp_ts = pd.read_pickle(\"../data/merge_data/_5_smooth_cvr_test_{0}_{1}_and_{2}_merge_0.pickle\".format(feat_1,feat_2,feat_3))\n",
    "    smooth_cvr_tr = pd.merge(smooth_cvr_tr,temp_tr,on=[\"instance_id\"],how=\"left\")\n",
    "    smooth_cvr_ts = pd.merge(smooth_cvr_ts,temp_ts,on=[\"instance_id\"],how=\"left\")\n",
    "            \n",
    "        \n",
    "smooth_cvr_tr.to_pickle(save_path_train)\n",
    "smooth_cvr_ts.to_pickle(save_path_test)\n",
    "print(\"保存在 \",save_path_train)\n",
    "print(\"保存在 \",save_path_test)"
   ]
  },
  {
   "cell_type": "code",
   "execution_count": null,
   "metadata": {},
   "outputs": [],
   "source": []
  },
  {
   "cell_type": "code",
   "execution_count": null,
   "metadata": {},
   "outputs": [],
   "source": [
    "##########merge data############"
   ]
  },
  {
   "cell_type": "code",
   "execution_count": 41,
   "metadata": {},
   "outputs": [],
   "source": [
    "train_x = train[(train[\"day\"]>=7)&(train[\"day\"]<=8)][[\"instance_id\",\"day\",\"is_trade\"]]\n",
    "        \n",
    "#读取基本的点击行为表\n",
    "basic_click_tr = pd.read_pickle(\"../data/merge_data/_5_merge_data_train_basic_click.pickle\")\n",
    "drop_cols = ['user_id', 'context_timestamp','hour', 'item_id', \n",
    "                     'item_category_list', 'item_property_list', 'item_brand_id', \n",
    "                     'item_city_id','shop_id',\n",
    "                     'context_page_id']\n",
    "basic_click_tr = basic_click_tr.drop(drop_cols,axis=1) #删除id类型的字段"
   ]
  },
  {
   "cell_type": "code",
   "execution_count": 42,
   "metadata": {},
   "outputs": [],
   "source": [
    "basic_click_tr = pd.read_pickle(\"../data/merge_data/_5_merge_data_train_basic_click.pickle\")"
   ]
  },
  {
   "cell_type": "code",
   "execution_count": 43,
   "metadata": {},
   "outputs": [
    {
     "name": "stdout",
     "output_type": "stream",
     "text": [
      "合并 basic_click_tr 完毕！！！！\n"
     ]
    }
   ],
   "source": [
    "train_x = pd.merge(train_x,basic_click_tr,how=\"left\",on=[\"instance_id\"]).drop_duplicates()\n",
    "del basic_click_tr\n",
    "gc.collect()\n",
    "print(\"合并 basic_click_tr 完毕！！！！\")        "
   ]
  },
  {
   "cell_type": "code",
   "execution_count": 44,
   "metadata": {},
   "outputs": [
    {
     "name": "stdout",
     "output_type": "stream",
     "text": [
      "合并 id_tr 完毕！！！！\n"
     ]
    }
   ],
   "source": [
    "#id类型\n",
    "id_tr = pd.read_pickle(\"../data/merge_data/_5_merge_data_train_ID_global_sum.pickle\")\n",
    "train_x = pd.merge(train_x,id_tr,how=\"left\",on=[\"instance_id\"]).drop_duplicates()\n",
    "del id_tr\n",
    "gc.collect()\n",
    "print(\"合并 id_tr 完毕！！！！\")"
   ]
  },
  {
   "cell_type": "code",
   "execution_count": null,
   "metadata": {},
   "outputs": [],
   "source": [
    "#平滑转化率\n",
    "smooth_cvr_tr = pd.read_pickle(\"../data/merge_data/_5_merge_data_train_smooth_cvr_6_8.pickle\")\n",
    "train_x = pd.merge(train_x,smooth_cvr_tr,how=\"left\",on=[\"instance_id\"]).drop_duplicates()\n",
    "del smooth_cvr_tr\n",
    "print(\"合并 smooth_cvr_tr 完毕！！！！\")"
   ]
  },
  {
   "cell_type": "code",
   "execution_count": null,
   "metadata": {},
   "outputs": [],
   "source": []
  },
  {
   "cell_type": "code",
   "execution_count": 120,
   "metadata": {},
   "outputs": [],
   "source": [
    "#原始数据\n",
    "#origin_tr = pd.read_pickle(\"../data/merge_data/_5_merge_data_train_originated.pickle\")"
   ]
  },
  {
   "cell_type": "code",
   "execution_count": 103,
   "metadata": {},
   "outputs": [
    {
     "name": "stdout",
     "output_type": "stream",
     "text": [
      "合并 origin_tr 完毕！！！！\n"
     ]
    }
   ],
   "source": [
    "#train_x = pd.merge(train_x,origin_tr,how=\"left\",on=[\"instance_id\"]).drop_duplicates()\n",
    "#del origin_tr\n",
    "#gc.collect()\n",
    "#print(\"合并 origin_tr 完毕！！！！\")"
   ]
  },
  {
   "cell_type": "code",
   "execution_count": 47,
   "metadata": {},
   "outputs": [
    {
     "name": "stdout",
     "output_type": "stream",
     "text": [
      "拆分训练集和验证集！！！\n"
     ]
    }
   ],
   "source": [
    "print(\"拆分训练集和验证集！！！\")\n",
    "#分割训练集和验证集(train and val)\n",
    "save_path_train = \"../data/merge_data/final_train.pickle\"\n",
    "save_path_val = \"../data/merge_data/final_val.pickle\"\n",
    "save_path_test = \"../data/merge_data/final_test.pickle\"\n",
    "val = train_x[train_x[\"day_x\"]==8]\n",
    "train = train_x[train_x[\"day_x\"].isin([7,8])]"
   ]
  },
  {
   "cell_type": "code",
   "execution_count": 48,
   "metadata": {},
   "outputs": [],
   "source": [
    "val = val.drop([\"day_x\",\"day_y\"],axis=1)\n",
    "train = train.drop([\"day_x\",\"day_y\"],axis=1)"
   ]
  },
  {
   "cell_type": "code",
   "execution_count": 49,
   "metadata": {},
   "outputs": [],
   "source": [
    "train = train.drop([\"is_trade_y\"],axis=1)\n",
    "val = val.drop([\"is_trade_y\"],axis=1)"
   ]
  },
  {
   "cell_type": "code",
   "execution_count": 50,
   "metadata": {},
   "outputs": [
    {
     "name": "stdout",
     "output_type": "stream",
     "text": [
      "验证集已经保存在 ../data/merge_data/final_val.pickle\n"
     ]
    },
    {
     "data": {
      "text/plain": [
       "202"
      ]
     },
     "execution_count": 50,
     "metadata": {},
     "output_type": "execute_result"
    }
   ],
   "source": [
    "val.to_pickle(save_path_val)\n",
    "print(\"验证集已经保存在 {0}\".format(save_path_val))        \n",
    "del val\n",
    "gc.collect()"
   ]
  },
  {
   "cell_type": "code",
   "execution_count": 51,
   "metadata": {},
   "outputs": [
    {
     "name": "stdout",
     "output_type": "stream",
     "text": [
      "训练集已经保存在 ../data/merge_data/final_train.pickle\n",
      "Wall time: 7min 5s\n"
     ]
    }
   ],
   "source": [
    "%%time\n",
    "train.to_pickle(save_path_train)\n",
    "print(\"训练集已经保存在 {0}\".format(save_path_train))\n",
    "del train\n",
    "gc.collect()"
   ]
  },
  {
   "cell_type": "code",
   "execution_count": 52,
   "metadata": {},
   "outputs": [
    {
     "name": "stdout",
     "output_type": "stream",
     "text": [
      "开始合并测试集\n"
     ]
    },
    {
     "data": {
      "text/plain": [
       "45"
      ]
     },
     "execution_count": 52,
     "metadata": {},
     "output_type": "execute_result"
    }
   ],
   "source": [
    "#############开始合并测试集##################\n",
    "print(\"开始合并测试集\")\n",
    "test = test[[\"instance_id\"]]\n",
    "#点击次数\n",
    "basic_click_ts = pd.read_pickle(\"../data/merge_data/_5_merge_data_test_basic_click.pickle\")\n",
    "basic_click_ts = basic_click_ts.drop(drop_cols,axis=1) #删除id类型的字段\n",
    "test = pd.merge(test,basic_click_ts,how=\"left\",on=[\"instance_id\"]).drop_duplicates()\n",
    "del basic_click_ts\n",
    "gc.collect()"
   ]
  },
  {
   "cell_type": "code",
   "execution_count": 53,
   "metadata": {},
   "outputs": [
    {
     "data": {
      "text/plain": [
       "21"
      ]
     },
     "execution_count": 53,
     "metadata": {},
     "output_type": "execute_result"
    }
   ],
   "source": [
    "#id类型\n",
    "id_ts = pd.read_pickle(\"../data/merge_data/_5_merge_data_test_ID_global_sum.pickle\")\n",
    "test = pd.merge(test,id_ts,how=\"left\",on=[\"instance_id\"]).drop_duplicates()\n",
    "del id_ts\n",
    "gc.collect()\n",
    "        \n",
    "        \n",
    "#原始数据\n",
    "#origin_ts = pd.read_pickle(\"../data/merge_data/_5_merge_data_test_originated.pickle\")\n",
    "#test = pd.merge(test,origin_ts,how=\"left\",on=[\"instance_id\"]).drop_duplicates()\n",
    "#del origin_ts\n",
    "#gc.collect()\n",
    "\n"
   ]
  },
  {
   "cell_type": "code",
   "execution_count": null,
   "metadata": {},
   "outputs": [],
   "source": [
    "#合并平滑转化率文件\n",
    "smooth_cvr_ts = pd.read_pickle(\"../data/merge_data/_5_merge_data_test_smooth_cvr_6_8.pickle\")\n",
    "test = pd.merge(test,smooth_cvr_ts,how=\"left\",on=[\"instance_id\"]).drop_duplicates()\n",
    "del smooth_cvr_ts"
   ]
  },
  {
   "cell_type": "code",
   "execution_count": 55,
   "metadata": {},
   "outputs": [
    {
     "name": "stdout",
     "output_type": "stream",
     "text": [
      "测试集保存在 ../data/merge_data/final_test.pickle\n"
     ]
    }
   ],
   "source": [
    "test.to_pickle(save_path_test)\n",
    "print(\"测试集保存在 {0}\".format(save_path_test))"
   ]
  },
  {
   "cell_type": "code",
   "execution_count": null,
   "metadata": {},
   "outputs": [],
   "source": []
  }
 ],
 "metadata": {
  "kernelspec": {
   "display_name": "Python 3",
   "language": "python",
   "name": "python3"
  },
  "language_info": {
   "codemirror_mode": {
    "name": "ipython",
    "version": 3
   },
   "file_extension": ".py",
   "mimetype": "text/x-python",
   "name": "python",
   "nbconvert_exporter": "python",
   "pygments_lexer": "ipython3",
   "version": "3.6.4"
  }
 },
 "nbformat": 4,
 "nbformat_minor": 2
}
